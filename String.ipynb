{
 "cells": [
  {
   "cell_type": "code",
   "execution_count": 2,
   "id": "59779254",
   "metadata": {},
   "outputs": [
    {
     "name": "stdout",
     "output_type": "stream",
     "text": [
      "geeksforgeeks\n",
      "{'g': 2, 'e': 4, 'k': 2, 's': 2, 'f': 1, 'o': 1, 'r': 1}\n",
      "g\n",
      "e\n",
      "k\n",
      "s\n"
     ]
    }
   ],
   "source": [
    "s = input()\n",
    "d={}\n",
    "\n",
    "for ch in s:\n",
    "    if(ch!=d.keys()):\n",
    "        d[ch] = s.count(ch)\n",
    "print(d)\n",
    "for k,v in d.items():\n",
    "    if v>1:\n",
    "        print(k)"
   ]
  },
  {
   "cell_type": "code",
   "execution_count": 6,
   "id": "02b86d04",
   "metadata": {},
   "outputs": [
    {
     "data": {
      "text/plain": [
       "dict_keys(['g', 'e', 'k', 's', 'f', 'o', 'r'])"
      ]
     },
     "execution_count": 6,
     "metadata": {},
     "output_type": "execute_result"
    }
   ],
   "source": [
    "d.keys()"
   ]
  },
  {
   "cell_type": "code",
   "execution_count": 13,
   "id": "ff078dfd",
   "metadata": {},
   "outputs": [
    {
     "name": "stdout",
     "output_type": "stream",
     "text": [
      "apple\n",
      "{'a': 1, 'p': 2, 'l': 1, 'e': 1}\n"
     ]
    }
   ],
   "source": [
    "s = input()\n",
    "d={}\n",
    "\n",
    "for ch in s:\n",
    "    if(ch not in d.keys()):\n",
    "        d[ch] = 0\n",
    "    d[ch]+=1\n",
    "print(d)"
   ]
  },
  {
   "cell_type": "code",
   "execution_count": 23,
   "id": "0ad82a34",
   "metadata": {},
   "outputs": [
    {
     "name": "stdout",
     "output_type": "stream",
     "text": [
      "Y21XX\n",
      "{'Y': 1, '2': 1, '1': 1, 'X': 2}\n",
      "Not valid\n",
      "Y 21"
     ]
    }
   ],
   "source": [
    "s = input()\n",
    "d={}\n",
    "for ele in s:\n",
    "    if(ele not in d.keys()):\n",
    "        d[ele] = s.count(ele)\n",
    "print(d)\n",
    "l1=[]\n",
    "l2=[]\n",
    "for k,v in d.items():\n",
    "    if v>1:\n",
    "        print(\"Not valid\")\n",
    "    elif k.isalpha():\n",
    "        l1.append(k)\n",
    "    else:\n",
    "        l2.append(k)\n",
    "for i in l1:\n",
    "    print(i,end='')\n",
    "print(end=\" \")\n",
    "for i in l2:\n",
    "    print(i,end='')"
   ]
  },
  {
   "cell_type": "code",
   "execution_count": null,
   "id": "2cb2e500",
   "metadata": {},
   "outputs": [],
   "source": []
  }
 ],
 "metadata": {
  "kernelspec": {
   "display_name": "Python 3 (ipykernel)",
   "language": "python",
   "name": "python3"
  },
  "language_info": {
   "codemirror_mode": {
    "name": "ipython",
    "version": 3
   },
   "file_extension": ".py",
   "mimetype": "text/x-python",
   "name": "python",
   "nbconvert_exporter": "python",
   "pygments_lexer": "ipython3",
   "version": "3.9.12"
  }
 },
 "nbformat": 4,
 "nbformat_minor": 5
}
