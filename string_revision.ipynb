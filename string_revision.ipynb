{
 "cells": [
  {
   "cell_type": "code",
   "execution_count": 2,
   "id": "b82c6e04",
   "metadata": {},
   "outputs": [
    {
     "name": "stdout",
     "output_type": "stream",
     "text": [
      "aabc\n",
      "a\n"
     ]
    }
   ],
   "source": [
    "#Print all the duplicates in the input string\n",
    "s = input()\n",
    "d = {}\n",
    "for ch in s:\n",
    "    d[ch] = s.count(ch)\n",
    "for k,v in d.items():\n",
    "    if v>1:\n",
    "        print(k)\n",
    "    "
   ]
  },
  {
   "cell_type": "code",
   "execution_count": 13,
   "id": "42b606dd",
   "metadata": {},
   "outputs": [
    {
     "name": "stdout",
     "output_type": "stream",
     "text": [
      "abad\n",
      "daba\n"
     ]
    },
    {
     "data": {
      "text/plain": [
       "1"
      ]
     },
     "execution_count": 13,
     "metadata": {},
     "output_type": "execute_result"
    }
   ],
   "source": [
    "#A Program to check if strings are rotations of each other or not\n",
    "def rotation(s1,s2,temp):\n",
    "    if len(s1)!=len(s2):\n",
    "        return 0\n",
    "    \n",
    "    temp = s1+s1\n",
    "\n",
    "    if(temp.count(s2)>0):\n",
    "        return 1\n",
    "s1 = input()\n",
    "s2 = input()\n",
    "rotation(s1,s2,\"\")"
   ]
  },
  {
   "cell_type": "code",
   "execution_count": 29,
   "id": "64c9868a",
   "metadata": {},
   "outputs": [
    {
     "name": "stdout",
     "output_type": "stream",
     "text": [
      "{4: 'c', 5: 'o', 6: 'd', 7: 'e', 0: 'l', 2: 'e', 1: 'e', 3: 't'}\n",
      "leetcode"
     ]
    }
   ],
   "source": [
    "#Shuffle String\n",
    "s = \"codeleet\"\n",
    "indices= [4,5,6,7,0,2,1,3]\n",
    "mapped = dict(zip(indices,s))   \n",
    "print(mapped)\n",
    "for k,v in sorted(mapped.items()):\n",
    "    print(v,end=\"\")\n"
   ]
  },
  {
   "cell_type": "code",
   "execution_count": 36,
   "id": "0851f637",
   "metadata": {},
   "outputs": [
    {
     "name": "stdout",
     "output_type": "stream",
     "text": [
      "d34g\n",
      "dg\n",
      "34"
     ]
    }
   ],
   "source": [
    "#Write a Program to check whether a string is a valid shuffle of two strings or not\n",
    "s = input()\n",
    "d = {}\n",
    "l1=[]\n",
    "l2=[]\n",
    "\n",
    "for ch in s:\n",
    "    d[ch]=s.count(ch)\n",
    "for k,v in d.items():\n",
    "    if v>1:\n",
    "        print(\"No valid\")\n",
    "    elif k.isalpha():\n",
    "        l1.append(k)\n",
    "    elif k.isnumeric():\n",
    "        l2.append(k)\n",
    "for i in l1:\n",
    "    print(i,end=\"\")\n",
    "print()\n",
    "for i in l2:\n",
    "    print(i,end=\"\")"
   ]
  },
  {
   "cell_type": "code",
   "execution_count": 5,
   "id": "ef465218",
   "metadata": {},
   "outputs": [
    {
     "name": "stdout",
     "output_type": "stream",
     "text": [
      "1\n"
     ]
    }
   ],
   "source": [
    "#Count and say:\n",
    "def countAndSay(n):\n",
    "    output = '1'\n",
    "    while n>1:\n",
    "        temp_str = output\n",
    "        output = ''\n",
    "        i=j=0\n",
    "        while j<len(temp_str):\n",
    "            if temp_str[i]==temp_str[j]:\n",
    "                j+=1\n",
    "            else:\n",
    "                output+=str(j-i)+temp_str[i]\n",
    "                i=j\n",
    "        output+=str(j-i)+temp_str[i]\n",
    "        \n",
    "        n-=1\n",
    "    print(output)\n",
    "countAndSay(1)"
   ]
  },
  {
   "cell_type": "code",
   "execution_count": 16,
   "id": "c612c8bc",
   "metadata": {},
   "outputs": [
    {
     "name": "stdout",
     "output_type": "stream",
     "text": [
      "aba\n"
     ]
    }
   ],
   "source": [
    "#largest palindromic substring\n",
    "def LPS(s):\n",
    "    if s==s[::-1]:\n",
    "        print(s)\n",
    "    start = 0\n",
    "    size = 1\n",
    "    \n",
    "    for i in range(1,len(s)):\n",
    "        l = i-size\n",
    "        r = i+1\n",
    "        s1 = s[l-1:r]\n",
    "        s2 = s[l:r]\n",
    "        \n",
    "        if l-1>=0 and s1 == s1[::-1]:\n",
    "            start = l-1\n",
    "            size = size + 2\n",
    "        elif s2==s2[::-1]:\n",
    "            start = l\n",
    "            size = size + 1\n",
    "    print(s[start:start+size])\n",
    "\n",
    "LPS(\"ababc\")"
   ]
  },
  {
   "cell_type": "code",
   "execution_count": 21,
   "id": "c4f50e1f",
   "metadata": {},
   "outputs": [
    {
     "name": "stdout",
     "output_type": "stream",
     "text": [
      "aa\n"
     ]
    }
   ],
   "source": [
    "#Longest Repeating Subsequences\n",
    "def LRS(s):\n",
    "    n = len(s)\n",
    "    dp = [[0 for i in range(n+1)]for j in range(n+1)]\n",
    "    for i in range(1,n+1):\n",
    "        for j in range(1,n+1):\n",
    "            if(s[i-1]==s[j-1] and i!=j):\n",
    "                dp[i][j] = 1+dp[i-1][j-1]\n",
    "            else:\n",
    "                dp[i][j] = max(dp[i-1][j],dp[i][j-1])\n",
    "    print(dp[n][n])\n",
    "LPS(\"aay\")"
   ]
  },
  {
   "cell_type": "code",
   "execution_count": 23,
   "id": "2e89f04a",
   "metadata": {},
   "outputs": [
    {
     "name": "stdout",
     "output_type": "stream",
     "text": [
      "abc acb bac bca cab cba "
     ]
    }
   ],
   "source": [
    "#permutaion of string\n",
    "def permu(s,answer):\n",
    "    if len(s)==0:\n",
    "        print(answer,end=\" \")\n",
    "        return \n",
    "    for i in range(len(s)):\n",
    "        ch = s[i]\n",
    "        rest = s[0:i]+s[i+1:]\n",
    "        permu(rest,answer+ch)\n",
    "permu(\"abc\",\"\")"
   ]
  },
  {
   "cell_type": "code",
   "execution_count": 28,
   "id": "f40f8c38",
   "metadata": {},
   "outputs": [
    {
     "name": "stdout",
     "output_type": "stream",
     "text": [
      "4\n"
     ]
    }
   ],
   "source": [
    "#split the binary string into equal numbers of 0s and 1s and print their number.\n",
    "def maxSubStr(s):\n",
    "    count0 = 0\n",
    "    count1 = 0\n",
    "    cnt = 0\n",
    "    for i in range(len(s)):\n",
    "        if s[i]==\"0\":\n",
    "            count0+=1\n",
    "        else:\n",
    "            count1+=1\n",
    "        if count0==count1:\n",
    "            cnt+=1\n",
    "    if count0!=count1:\n",
    "        print(\"-1\")\n",
    "        return\n",
    "    print(cnt)\n",
    "maxSubStr(\"0100110101\")\n",
    "    "
   ]
  },
  {
   "cell_type": "code",
   "execution_count": 34,
   "id": "a8b9d28a",
   "metadata": {},
   "outputs": [
    {
     "name": "stdout",
     "output_type": "stream",
     "text": [
      "3\n"
     ]
    }
   ],
   "source": [
    "#Edit distance\n",
    "def ed(s1,s2,m,n):\n",
    "    if m==0:\n",
    "        return n\n",
    "    if n == 0:\n",
    "        return m\n",
    "    if s1[m-1] == s2[n-1]:\n",
    "        return ed(s1,s2,m-1,n-1)\n",
    "    else:\n",
    "        return 1+min(ed(s1,s2,m,n-1),ed(s1,s2,m-1,n),ed(s1,s2,m-1,n-1))\n",
    "s1 = \"sunday\"\n",
    "s2 = \"saturday\"\n",
    "print(ed(s1,s2,len(s1),len(s2)))"
   ]
  },
  {
   "cell_type": "code",
   "execution_count": 35,
   "id": "fcaf6731",
   "metadata": {},
   "outputs": [
    {
     "name": "stdout",
     "output_type": "stream",
     "text": [
      "[5, 3, 6, 4, 7, 9]\n"
     ]
    }
   ],
   "source": [
    "def nextpermu(arr):\n",
    "    n = len(arr)\n",
    "    k = n-2\n",
    "    while k>0:\n",
    "        if arr[k]<arr[k+1]:\n",
    "            break\n",
    "        k-=1\n",
    "    if k<0:\n",
    "        arr = arr[::-1]\n",
    "    else:\n",
    "        for l in range(n-1,k,-1):\n",
    "            if arr[l]>arr[k]:\n",
    "                break\n",
    "        arr[l],arr[k] = arr[k],arr[l]\n",
    "        arr[k+1:] = reversed(arr[k+1:])\n",
    "    return arr\n",
    "print(nextpermu([5,3,4,9,7,6]))"
   ]
  },
  {
   "cell_type": "code",
   "execution_count": 38,
   "id": "4e10e947",
   "metadata": {},
   "outputs": [
    {
     "name": "stdout",
     "output_type": "stream",
     "text": [
      "True\n"
     ]
    }
   ],
   "source": [
    "#Balanced Parenthesis\n",
    "def bal(exp):\n",
    "    stack = []\n",
    "    for char in exp:\n",
    "        if char in [\"(\",\"{\",\"[\"]:\n",
    "            stack.append(char)\n",
    "        else:\n",
    "            if not stack:\n",
    "                return False\n",
    "            current_char = stack.pop()\n",
    "        \n",
    "            if current_char == \"(\":\n",
    "                if char!=\")\":\n",
    "                    return False\n",
    "            if current_char == \"{\":\n",
    "                if char!=\"}\":\n",
    "                    return False\n",
    "            if current_char == \"[\":\n",
    "                if char!=\"]\":\n",
    "                    return False\n",
    "    if stack:\n",
    "        return False\n",
    "    return True\n",
    "print(bal(\"()\"))"
   ]
  },
  {
   "cell_type": "code",
   "execution_count": 46,
   "id": "12c66703",
   "metadata": {},
   "outputs": [
    {
     "name": "stdout",
     "output_type": "stream",
     "text": [
      "1\n"
     ]
    }
   ],
   "source": [
    "def countRev(s):\n",
    "    if len(s)%2 ==1:\n",
    "        return -1\n",
    "    op = 0\n",
    "    cl = 0\n",
    "    res = 0\n",
    "    \n",
    "    for i in s:\n",
    "        if i == \"{\":\n",
    "            op+=1\n",
    "        else:\n",
    "            cl+=1\n",
    "    if cl > op:\n",
    "        res+= cl-op\n",
    "        cl,op = op,cl\n",
    "    res+=abs(cl-op)//2\n",
    "    return res\n",
    "print(countRev(\"}{{}}{{{\"))"
   ]
  },
  {
   "cell_type": "code",
   "execution_count": 52,
   "id": "5df37481",
   "metadata": {},
   "outputs": [
    {
     "name": "stdout",
     "output_type": "stream",
     "text": [
      "fl\n"
     ]
    }
   ],
   "source": [
    "def LCP(s):\n",
    "    if not s:\n",
    "        return -1\n",
    "    for i, letter_group in enumerate(zip(*s)):\n",
    "        if len(set(letter_group))>1:\n",
    "            return s[0][:i]\n",
    "    else:\n",
    "        return min(s)\n",
    "s = ['flower','flow','flight']\n",
    "print(LCP(s))"
   ]
  },
  {
   "cell_type": "code",
   "execution_count": 59,
   "id": "8d98c878",
   "metadata": {},
   "outputs": [
    {
     "name": "stdout",
     "output_type": "stream",
     "text": [
      "4\n"
     ]
    }
   ],
   "source": [
    "def lcs(X,Y,m,n):\n",
    "    if m==0 or n==0:\n",
    "        return 0\n",
    "    elif X[m-1] == Y[n-1]:\n",
    "        return 1+lcs(X,Y,m-1,n-1)\n",
    "    else:\n",
    "        return max(lcs(X,Y,m,n-1),lcs(X,Y,m-1,n))\n",
    "X = \"AGGTAB\"\n",
    "Y = \"GXTXAYB\"\n",
    "print(lcs(X,Y,len(X),len(Y)))\n"
   ]
  },
  {
   "cell_type": "code",
   "execution_count": null,
   "id": "5ad65f6a",
   "metadata": {},
   "outputs": [],
   "source": []
  }
 ],
 "metadata": {
  "kernelspec": {
   "display_name": "Python 3 (ipykernel)",
   "language": "python",
   "name": "python3"
  },
  "language_info": {
   "codemirror_mode": {
    "name": "ipython",
    "version": 3
   },
   "file_extension": ".py",
   "mimetype": "text/x-python",
   "name": "python",
   "nbconvert_exporter": "python",
   "pygments_lexer": "ipython3",
   "version": "3.9.12"
  }
 },
 "nbformat": 4,
 "nbformat_minor": 5
}
