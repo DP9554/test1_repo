{
 "cells": [
  {
   "cell_type": "code",
   "execution_count": 12,
   "id": "4cacc7cb",
   "metadata": {},
   "outputs": [
    {
     "name": "stdout",
     "output_type": "stream",
     "text": [
      "24\n"
     ]
    }
   ],
   "source": [
    "#Sliding window protocol\n",
    "def sub(arr,k):\n",
    "    n = len(arr)\n",
    "    window_sum = sum(arr[:k])\n",
    "    max_sum = window_sum\n",
    "    for i in range(n-k):\n",
    "        window_sum = window_sum - arr[i] + arr[i+k]\n",
    "        max_sum = max(window_sum, max_sum)\n",
    "    return max_sum\n",
    "\n",
    "l = [1, 4, 2, 10, 2, 3, 1, 0, 20]\n",
    "k = 4\n",
    "print(sub(l,k))"
   ]
  },
  {
   "cell_type": "code",
   "execution_count": 6,
   "id": "a1a24578",
   "metadata": {},
   "outputs": [
    {
     "name": "stdout",
     "output_type": "stream",
     "text": [
      "True\n"
     ]
    }
   ],
   "source": [
    "# Python Program Illustrating Naive Approach to\n",
    "# Find if There is a Pair in A[0..N-1] with Given Sum\n",
    "# Using Two-pointers Technique\n",
    "\n",
    "# Method\n",
    "def isPairSum(A, N, X):\n",
    "\n",
    "\t# represents first pointer\n",
    "\ti = 0\n",
    "\n",
    "\t# represents second pointer\n",
    "\tj = N - 1\n",
    "\n",
    "\twhile(i < j):\n",
    "\t\n",
    "\t\t# If we find a pair\n",
    "\t\tif (A[i] + A[j] == X):\n",
    "\t\t\treturn True\n",
    "\n",
    "\t\t# If sum of elements at current\n",
    "\t\t# pointers is less, we move towards\n",
    "\t\t# higher values by doing i += 1\n",
    "\t\telif(A[i] + A[j] < X):\n",
    "\t\t\ti += 1\n",
    "\n",
    "\t\t# If sum of elements at current\n",
    "\t\t# pointers is more, we move towards\n",
    "\t\t# lower values by doing j -= 1\n",
    "\t\telse:\n",
    "\t\t\tj -= 1\n",
    "\treturn 0\n",
    "\n",
    "# array declaration\n",
    "arr = [2, 3, 5, 8, 9, 10, 11]\n",
    "\n",
    "# value to search\n",
    "val = 17\n",
    "\n",
    "print(isPairSum(arr, len(arr), val))\n",
    "\n"
   ]
  }
 ],
 "metadata": {
  "kernelspec": {
   "display_name": "Python 3 (ipykernel)",
   "language": "python",
   "name": "python3"
  },
  "language_info": {
   "codemirror_mode": {
    "name": "ipython",
    "version": 3
   },
   "file_extension": ".py",
   "mimetype": "text/x-python",
   "name": "python",
   "nbconvert_exporter": "python",
   "pygments_lexer": "ipython3",
   "version": "3.9.12"
  }
 },
 "nbformat": 4,
 "nbformat_minor": 5
}
