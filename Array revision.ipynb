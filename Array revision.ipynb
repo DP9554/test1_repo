{
 "cells": [
  {
   "cell_type": "code",
   "execution_count": 11,
   "id": "a664eea3",
   "metadata": {},
   "outputs": [
    {
     "name": "stdout",
     "output_type": "stream",
     "text": [
      "5\n"
     ]
    }
   ],
   "source": [
    "#Find k-th maximum and minimum element\n",
    "def maxi(l,k):\n",
    "    l.sort(reverse=True)\n",
    "    print(l[k-1])\n",
    "arr = [3,5,4,1,9]\n",
    "maxi(arr,2)"
   ]
  },
  {
   "cell_type": "code",
   "execution_count": 8,
   "id": "4081d847",
   "metadata": {},
   "outputs": [
    {
     "name": "stdout",
     "output_type": "stream",
     "text": [
      "[1, 3, 4, 5, 9]\n"
     ]
    }
   ],
   "source": [
    "arr = [3,5,4,1,9]\n",
    "arr.sort()\n",
    "print(arr)"
   ]
  },
  {
   "cell_type": "code",
   "execution_count": 22,
   "id": "75f2e0e8",
   "metadata": {},
   "outputs": [
    {
     "name": "stdout",
     "output_type": "stream",
     "text": [
      "[0, 0, 1, 2, 2]\n"
     ]
    }
   ],
   "source": [
    "l = [0,2,1,2,0]\n",
    "zero = 0\n",
    "one = 0\n",
    "two = 0\n",
    "for i in arr:\n",
    "    if i == 0:\n",
    "        zero+=1\n",
    "    if i == 1:\n",
    "        one+=1\n",
    "    if i == 2:\n",
    "        two+=1\n",
    "        \n",
    "for i in range(zero):\n",
    "    l[i] = 0\n",
    "for j in range(zero,zero+one):\n",
    "    l[j] = 1\n",
    "for k in range(zero+one,zero+one+two):\n",
    "    l[k] = 2\n",
    "print(l)\n",
    "\n",
    "\n"
   ]
  },
  {
   "cell_type": "code",
   "execution_count": 25,
   "id": "a133c321",
   "metadata": {},
   "outputs": [
    {
     "name": "stdout",
     "output_type": "stream",
     "text": [
      "[-2, -1, 2, 2, 43]\n"
     ]
    }
   ],
   "source": [
    "l = [-1,2,43,-2,2]\n",
    "# l1 = []\n",
    "# l2 = []\n",
    "# for i in l:\n",
    "#     if i<0:\n",
    "#         l1.append(i)\n",
    "#     else:\n",
    "#         l2.append(i)\n",
    "# print(l1+l2)\n",
    "l.sort()\n",
    "print(l)\n",
    "        "
   ]
  },
  {
   "cell_type": "code",
   "execution_count": 28,
   "id": "ee5e3548",
   "metadata": {},
   "outputs": [
    {
     "name": "stdout",
     "output_type": "stream",
     "text": [
      "3\n",
      "1 2 3\n",
      "[1, 3, 2]\n"
     ]
    }
   ],
   "source": [
    "#Cylindrically rotate\n",
    "n = int(input())\n",
    "arr = list(map(int,input().strip().split()))\n",
    "arr.insert(1,arr.pop())\n",
    "print(arr)"
   ]
  },
  {
   "cell_type": "code",
   "execution_count": 37,
   "id": "431e5b01",
   "metadata": {},
   "outputs": [
    {
     "name": "stdout",
     "output_type": "stream",
     "text": [
      "4\n",
      "-2 -3 4 -1 -2 1 5 -3\n",
      "7\n"
     ]
    }
   ],
   "source": [
    "#Kadane's Algorithm\n",
    "n = int(input())\n",
    "arr = list(map(int,input().strip().split()))\n",
    "\n",
    "max_sum = -9999\n",
    "max_till = 0\n",
    "\n",
    "for i in range(len(arr)):\n",
    "    max_till+=arr[i]\n",
    "    if(max_sum<max_till):\n",
    "        max_sum = max_till\n",
    "    if max_till<0:\n",
    "        max_till = 0\n",
    "print(max_sum)"
   ]
  },
  {
   "cell_type": "code",
   "execution_count": 40,
   "id": "3723e9fc",
   "metadata": {},
   "outputs": [
    {
     "name": "stdout",
     "output_type": "stream",
     "text": [
      "5\n"
     ]
    }
   ],
   "source": [
    "#Minimize the difference heights\n",
    "def height(arr,n,k):\n",
    "    if n == 0:\n",
    "        return 0\n",
    "    arr.sort()\n",
    "    ans = arr[-1]-arr[0]\n",
    "    # Handle corner element\n",
    "    small = arr[0]+k\n",
    "    big = arr[-1]-k\n",
    "    if small>big:\n",
    "        small,big = big,small\n",
    "    #traversing the remaining middle element\n",
    "    for i in range(1,len(arr)-1):\n",
    "        subtract = arr[i]-k\n",
    "        add = arr[i]+k\n",
    "        if (subtract >= small)or(add<=big):\n",
    "            continue\n",
    "        if(big-subtract <=add-small):\n",
    "            small = subtract\n",
    "        else:\n",
    "            big = add\n",
    "    return min(ans, big-small)\n",
    "print(height([1,5,8,10],4,2))"
   ]
  },
  {
   "cell_type": "code",
   "execution_count": 2,
   "id": "cc7e4e88",
   "metadata": {},
   "outputs": [
    {
     "name": "stdout",
     "output_type": "stream",
     "text": [
      "2\n"
     ]
    }
   ],
   "source": [
    "arr = [2,1,0,3,2]\n",
    "for i in arr:\n",
    "    if arr.count(i)>1:\n",
    "        print(i)\n",
    "        break\n"
   ]
  },
  {
   "cell_type": "code",
   "execution_count": null,
   "id": "67e772be",
   "metadata": {},
   "outputs": [],
   "source": []
  }
 ],
 "metadata": {
  "kernelspec": {
   "display_name": "Python 3 (ipykernel)",
   "language": "python",
   "name": "python3"
  },
  "language_info": {
   "codemirror_mode": {
    "name": "ipython",
    "version": 3
   },
   "file_extension": ".py",
   "mimetype": "text/x-python",
   "name": "python",
   "nbconvert_exporter": "python",
   "pygments_lexer": "ipython3",
   "version": "3.9.12"
  }
 },
 "nbformat": 4,
 "nbformat_minor": 5
}
