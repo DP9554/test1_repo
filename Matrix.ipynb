{
 "cells": [
  {
   "cell_type": "code",
   "execution_count": 46,
   "id": "f3849d29",
   "metadata": {},
   "outputs": [
    {
     "name": "stdout",
     "output_type": "stream",
     "text": [
      "{0: 0, 1: 0, 2: 0, 3: 0}\n",
      "-1\n"
     ]
    }
   ],
   "source": [
    "#3\n",
    "matrix = [[0,0,0,0],\n",
    "          [0,0,0,0],\n",
    "         [0,0,0,0],\n",
    "       [0,0,0,0]]\n",
    "d= {}\n",
    "n = 4\n",
    "cnt = 0\n",
    "for i in range(4):\n",
    "    for j in range(4):\n",
    "        d[i] = matrix[i].count(1)\n",
    "print(d)\n",
    "for v in d.values():\n",
    "    if v==0:\n",
    "        cnt+=1\n",
    "if cnt == n:\n",
    "    print(\"-1\")\n",
    "else:\n",
    "    print(max(d, key=d.get))"
   ]
  },
  {
   "cell_type": "code",
   "execution_count": 1,
   "id": "d8031cc9",
   "metadata": {},
   "outputs": [
    {
     "name": "stdout",
     "output_type": "stream",
     "text": [
      "[2, 4, 4, 2]\n"
     ]
    },
    {
     "ename": "KeyboardInterrupt",
     "evalue": "",
     "output_type": "error",
     "traceback": [
      "\u001b[1;31m---------------------------------------------------------------------------\u001b[0m",
      "\u001b[1;31mKeyboardInterrupt\u001b[0m                         Traceback (most recent call last)",
      "Input \u001b[1;32mIn [1]\u001b[0m, in \u001b[0;36m<cell line: 17>\u001b[1;34m()\u001b[0m\n\u001b[0;32m     31\u001b[0m \u001b[38;5;66;03m#     elif (l[maxi] != l[maxi-1]) or (l[maxi] != l[maxi+1]):\u001b[39;00m\n\u001b[0;32m     32\u001b[0m \u001b[38;5;66;03m#         print(ma)\u001b[39;00m\n\u001b[0;32m     33\u001b[0m \u001b[38;5;66;03m#         print(\"02\")\u001b[39;00m\n\u001b[0;32m     34\u001b[0m \u001b[38;5;66;03m#         break\u001b[39;00m\n\u001b[0;32m     35\u001b[0m         \n\u001b[0;32m     36\u001b[0m     \u001b[38;5;28;01melse\u001b[39;00m:\n\u001b[0;32m     37\u001b[0m         \u001b[38;5;28;01mwhile\u001b[39;00m(l[maxi]\u001b[38;5;241m==\u001b[39ml[maxi\u001b[38;5;241m+\u001b[39m\u001b[38;5;241m1\u001b[39m]):\n\u001b[1;32m---> 38\u001b[0m             c\u001b[38;5;241m+\u001b[39m\u001b[38;5;241m=\u001b[39m\u001b[38;5;241m1\u001b[39m\n\u001b[0;32m     39\u001b[0m             l1\u001b[38;5;241m.\u001b[39mappend(c)\n\u001b[0;32m     40\u001b[0m         row \u001b[38;5;241m=\u001b[39m \u001b[38;5;28mlen\u001b[39m(l1)\n",
      "\u001b[1;31mKeyboardInterrupt\u001b[0m: "
     ]
    }
   ],
   "source": [
    "#max triangle (has error , will work later)\n",
    "matrix = [[0,1,1,0],\n",
    "          [1,1,1,1],\n",
    "         [1,1,1,1],\n",
    "       [1,1,0,0]]\n",
    "count =0\n",
    "l = []\n",
    "for i in range(4):\n",
    "    for j in range(4):\n",
    "        if matrix[i][j]==1:\n",
    "            count+=1\n",
    "    \n",
    "    l.append(count)\n",
    "    count= 0 \n",
    "l1=[]   \n",
    "print(l)\n",
    "for i in range(len(l)):\n",
    "    ma = max(l)\n",
    "    maxi = l.index(ma)\n",
    "    cnt = l.count(ma)\n",
    "    c = 0\n",
    "    if ma == 0:\n",
    "        print(\"no one\")\n",
    "        break\n",
    "        \n",
    "    elif cnt == 1:\n",
    "        print(ma)\n",
    "        print(\"01\")\n",
    "        break\n",
    "        \n",
    "#     elif (l[maxi] != l[maxi-1]) or (l[maxi] != l[maxi+1]):\n",
    "#         print(ma)\n",
    "#         print(\"02\")\n",
    "#         break\n",
    "        \n",
    "    else:\n",
    "        while(l[maxi]==l[maxi+1]):\n",
    "            c+=1\n",
    "            l1.append(c)\n",
    "        row = len(l1)\n",
    "        print(row*ma)\n",
    "        print(\"03\")\n",
    "        \n",
    "        "
   ]
  },
  {
   "cell_type": "code",
   "execution_count": null,
   "id": "911c37b4",
   "metadata": {},
   "outputs": [],
   "source": []
  },
  {
   "cell_type": "code",
   "execution_count": null,
   "id": "31e0ac80",
   "metadata": {},
   "outputs": [],
   "source": []
  }
 ],
 "metadata": {
  "kernelspec": {
   "display_name": "Python 3 (ipykernel)",
   "language": "python",
   "name": "python3"
  },
  "language_info": {
   "codemirror_mode": {
    "name": "ipython",
    "version": 3
   },
   "file_extension": ".py",
   "mimetype": "text/x-python",
   "name": "python",
   "nbconvert_exporter": "python",
   "pygments_lexer": "ipython3",
   "version": "3.9.12"
  }
 },
 "nbformat": 4,
 "nbformat_minor": 5
}
