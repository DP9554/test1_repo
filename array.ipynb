{
 "cells": [
  {
   "cell_type": "code",
   "execution_count": 1,
   "id": "1d56d0b1",
   "metadata": {},
   "outputs": [
    {
     "name": "stdout",
     "output_type": "stream",
     "text": [
      "[5, 4, 3, 2, 1]\n"
     ]
    }
   ],
   "source": [
    "#1\n",
    "l=[1,2,3,4,5]\n",
    "print(l[::-1])"
   ]
  },
  {
   "cell_type": "code",
   "execution_count": 2,
   "id": "0930d27c",
   "metadata": {},
   "outputs": [
    {
     "name": "stdout",
     "output_type": "stream",
     "text": [
      "8 -9\n"
     ]
    }
   ],
   "source": [
    "#2\n",
    "l=[1,2,8,8,3,-9,4,5]\n",
    "print(max(l),min(l))\n"
   ]
  },
  {
   "cell_type": "code",
   "execution_count": 19,
   "id": "5ea76a40",
   "metadata": {},
   "outputs": [
    {
     "name": "stdout",
     "output_type": "stream",
     "text": [
      "Enter the kth smallest element :2\n",
      "[-9, 1, 2, 3, 4, 5, 8]\n",
      "1\n"
     ]
    }
   ],
   "source": [
    "#3=======================================note\n",
    "l=set([1,2,8,8,3,-9,4,5])\n",
    "l=list(l)\n",
    "k = int(input(\"Enter the kth smallest element :\"))\n",
    "l.sort()\n",
    "print(l)\n",
    "print(l[k-1])\n"
   ]
  },
  {
   "cell_type": "code",
   "execution_count": 20,
   "id": "f1e2a143",
   "metadata": {},
   "outputs": [
    {
     "name": "stdout",
     "output_type": "stream",
     "text": [
      "Enter the largest element :1\n",
      "[8, 5, 4, 3, 2, 1, -9]\n",
      "8\n"
     ]
    }
   ],
   "source": [
    "l=set([1,2,8,8,3,-9,4,5])\n",
    "l=list(l)\n",
    "k = int(input(\"Enter the largest element :\"))\n",
    "l.sort(reverse=True)\n",
    "print(l)\n",
    "print(l[k-1])"
   ]
  },
  {
   "cell_type": "code",
   "execution_count": 10,
   "id": "3599cc86",
   "metadata": {},
   "outputs": [
    {
     "name": "stdout",
     "output_type": "stream",
     "text": [
      "5\n",
      "0 2 1 2 0\n",
      "[0, 0, 1, 2, 2]\n"
     ]
    }
   ],
   "source": [
    "#4\n",
    "N = int( input())\n",
    "l = list(map(int, input().strip().split()))\n",
    "zero =0\n",
    "one = 0\n",
    "two = 0\n",
    "\n",
    "for x in l:\n",
    "    if x==0:\n",
    "        zero+=1\n",
    "    elif x==1:\n",
    "        one+=1\n",
    "    elif x == 2:\n",
    "        two+=1\n",
    "\n",
    "for i in range(zero):\n",
    "    l[i] = 0\n",
    "for j in range(zero,zero+one):\n",
    "    l[j] = 1\n",
    "for k in range(zero+one,zero+one+two):\n",
    "    l[k] = 2\n",
    "    \n",
    "print(l)\n"
   ]
  },
  {
   "cell_type": "code",
   "execution_count": 2,
   "id": "f57c278a",
   "metadata": {},
   "outputs": [
    {
     "name": "stdout",
     "output_type": "stream",
     "text": [
      "-12 21 2 12 1 2 -21\n",
      "[-12, -21, 21, 2, 12, 1, 2]\n"
     ]
    }
   ],
   "source": [
    "#5\n",
    "arr = list(map(int,input().strip().split()))\n",
    "l1 = []\n",
    "l2 = []\n",
    "for i in arr:\n",
    "    if (i<0):\n",
    "        l1.append(i)\n",
    "    else:\n",
    "        l2.append(i)\n",
    "print(l1+l2)"
   ]
  },
  {
   "cell_type": "code",
   "execution_count": 4,
   "id": "87a266b5",
   "metadata": {},
   "outputs": [
    {
     "name": "stdout",
     "output_type": "stream",
     "text": [
      "23 23 -1 -3 -4\n",
      "[-4, -3, -1, 23, 23]\n"
     ]
    }
   ],
   "source": [
    "arr = list(map(int,input().strip().split()))\n",
    "arr.sort()\n",
    "print(arr)"
   ]
  },
  {
   "cell_type": "code",
   "execution_count": 9,
   "id": "f98d9331",
   "metadata": {},
   "outputs": [
    {
     "name": "stdout",
     "output_type": "stream",
     "text": [
      "5 3\n",
      "1 2 3 4 5\n",
      "1 2 3\n",
      "{1, 2, 3, 4, 5}\n",
      "[1, 2, 3]\n"
     ]
    }
   ],
   "source": [
    "#6\n",
    "n,m = map(int,input().strip().split())\n",
    "arr1 = list(map(int,input().strip().split()))\n",
    "arr2 = list(map(int,input().strip().split()))\n",
    "\n",
    "#union\n",
    "arr3 = arr1 + arr2\n",
    "arr3 = set(arr3)\n",
    "print(arr3)\n",
    "\n",
    "#intersection\n",
    "l1=[]\n",
    "\n",
    "for i in arr1:\n",
    "    if (i in arr2):\n",
    "        l1.append(i)\n",
    "        \n",
    "print(l1)\n",
    "            "
   ]
  },
  {
   "cell_type": "code",
   "execution_count": 13,
   "id": "509f0f4e",
   "metadata": {},
   "outputs": [
    {
     "name": "stdout",
     "output_type": "stream",
     "text": [
      "3 \n",
      "1 2 3\n",
      "[3, 1, 2]\n"
     ]
    }
   ],
   "source": [
    "#7\n",
    "n = int(input())\n",
    "arr = list(map(int,input().strip().split()))\n",
    "arr.insert(0,arr.pop())\n",
    "print(arr)\n"
   ]
  },
  {
   "cell_type": "code",
   "execution_count": 31,
   "id": "0c304d5b",
   "metadata": {},
   "outputs": [
    {
     "name": "stdout",
     "output_type": "stream",
     "text": [
      "3\n",
      "1 2 3\n",
      "[2, 2, 2]\n"
     ]
    }
   ],
   "source": [
    "n = int(input())\n",
    "arr = list(map(int,input().strip().split()))\n",
    "\n",
    "for i in range((len(arr)-1),1,-1):\n",
    "    arr[i] = arr[i-1]\n",
    "arr[0] = arr[len(arr)-1]    \n",
    "\n",
    "\n",
    "print(arr)\n",
    "    "
   ]
  },
  {
   "cell_type": "code",
   "execution_count": 26,
   "id": "de24c946",
   "metadata": {},
   "outputs": [
    {
     "name": "stdout",
     "output_type": "stream",
     "text": [
      "3\n",
      "2\n"
     ]
    }
   ],
   "source": [
    "l = [ 1,2,3]\n",
    "\n",
    "for i in range(len(l),1,-1):\n",
    "    print(i)"
   ]
  },
  {
   "cell_type": "code",
   "execution_count": 6,
   "id": "55225d19",
   "metadata": {},
   "outputs": [
    {
     "name": "stdout",
     "output_type": "stream",
     "text": [
      "4\n",
      "-1 -2 -3 -4\n",
      "0\n"
     ]
    }
   ],
   "source": [
    "#8\n",
    "n = int(input())\n",
    "arr = list(map(int,input().strip().split()))\n",
    "\n",
    "current_sum = 0\n",
    "max_sum = -999999\n",
    "\n",
    "for i in range(n):\n",
    "    current_sum+=arr[i]\n",
    "    \n",
    "    if current_sum < 0:\n",
    "        current_sum = 0\n",
    "    \n",
    "#     max_sum = max(current_sum,max_sum)\n",
    "    if (max_sum<current_sum):\n",
    "        max_sum = current_sum\n",
    "    \n",
    "print(max_sum)\n",
    "        "
   ]
  },
  {
   "cell_type": "code",
   "execution_count": 1,
   "id": "cdea342b",
   "metadata": {},
   "outputs": [
    {
     "name": "stdout",
     "output_type": "stream",
     "text": [
      "0\n",
      "1\n",
      "2\n",
      "4\n"
     ]
    }
   ],
   "source": [
    "for  i in range(5):\n",
    "    if i==3:\n",
    "        continue\n",
    "    print(i)"
   ]
  },
  {
   "cell_type": "code",
   "execution_count": 1,
   "id": "29a344e7",
   "metadata": {},
   "outputs": [
    {
     "name": "stdout",
     "output_type": "stream",
     "text": [
      "3\n",
      "5\n",
      "3 9 12 16 20\n"
     ]
    },
    {
     "ename": "NameError",
     "evalue": "name 'getMinDiff' is not defined",
     "output_type": "error",
     "traceback": [
      "\u001b[1;31m---------------------------------------------------------------------------\u001b[0m",
      "\u001b[1;31mNameError\u001b[0m                                 Traceback (most recent call last)",
      "Input \u001b[1;32mIn [1]\u001b[0m, in \u001b[0;36m<cell line: 5>\u001b[1;34m()\u001b[0m\n\u001b[0;32m      3\u001b[0m n \u001b[38;5;241m=\u001b[39m \u001b[38;5;28mint\u001b[39m(\u001b[38;5;28minput\u001b[39m())\n\u001b[0;32m      4\u001b[0m arr \u001b[38;5;241m=\u001b[39m \u001b[38;5;28mlist\u001b[39m(\u001b[38;5;28mmap\u001b[39m(\u001b[38;5;28mint\u001b[39m,\u001b[38;5;28minput\u001b[39m()\u001b[38;5;241m.\u001b[39mstrip()\u001b[38;5;241m.\u001b[39msplit()))\n\u001b[1;32m----> 5\u001b[0m sol \u001b[38;5;241m=\u001b[39m \u001b[43mgetMinDiff\u001b[49m(arr,k,n)\n\u001b[0;32m      6\u001b[0m \u001b[38;5;28mprint\u001b[39m(sol)\n\u001b[0;32m      8\u001b[0m \u001b[38;5;28;01mdef\u001b[39;00m \u001b[38;5;21mgetMinDiff\u001b[39m(arr,k,n):\n",
      "\u001b[1;31mNameError\u001b[0m: name 'getMinDiff' is not defined"
     ]
    }
   ],
   "source": [
    "#9\n",
    "k = int(input())\n",
    "n = int(input())\n",
    "arr = list(map(int,input().strip().split()))\n",
    "sol = getMinDiff(arr,k,n)\n",
    "print(sol)\n",
    "\n",
    "def getMinDiff(arr,k,n):\n",
    "    if(n==1):\n",
    "        return 0\n",
    "    arr.sort()\n",
    "    ans = arr[n-1]-arr[0]\n",
    "    small = arr[0]+k\n",
    "    big = arr[n-1]-k\n",
    "    if(small>big):\n",
    "        small,big = big,small\n",
    "    \n",
    "    for i in range(1,n-1):\n",
    "        sub = arr[i]-k\n",
    "        add = arr[i]+k\n",
    "        \n",
    "        if(sub >= small or add<=big):\n",
    "            continue\n",
    "        if(big - sub <= add-small):\n",
    "            small = sub\n",
    "        else:\n",
    "            big = add\n",
    "            \n",
    "    return min(ans,big-small)\n",
    "        "
   ]
  },
  {
   "cell_type": "code",
   "execution_count": 10,
   "id": "b4f6d9b7",
   "metadata": {},
   "outputs": [
    {
     "name": "stdout",
     "output_type": "stream",
     "text": [
      "11\n",
      "1 3 5 8 9 2 6 7 6 8 9\n",
      "3\n"
     ]
    }
   ],
   "source": [
    "#10\n",
    "N = int(input())\n",
    "arr = list(map(int,input().strip().split()))\n",
    "\n",
    "if N<=1:\n",
    "    print(\"0\")\n",
    "if arr[0]==0:\n",
    "    print(\"-1\")\n",
    "maxReach = arr[0]\n",
    "steps = arr[0]\n",
    "\n",
    "jumps =1\n",
    "\n",
    "for i in range(1,N):\n",
    "    if i == N-1:\n",
    "        print(jumps)\n",
    "    maxReach = max(maxReach, arr[i]+i)\n",
    "    steps = steps-1\n",
    "    \n",
    "    if steps ==0:\n",
    "        jumps+=1\n",
    "        \n",
    "        if (i>=maxReach):\n",
    "            print(\"-1\")\n",
    "        steps = maxReach-1\n",
    "    "
   ]
  },
  {
   "cell_type": "code",
   "execution_count": 2,
   "id": "3538a439",
   "metadata": {},
   "outputs": [
    {
     "name": "stdout",
     "output_type": "stream",
     "text": [
      "3 1 3 4 2\n",
      "3\n"
     ]
    }
   ],
   "source": [
    "#11\n",
    "arr = list (map(int, input().strip().split()))\n",
    "for x in arr:\n",
    "    check = arr.count(x)\n",
    "    if check !=1:\n",
    "        print(x)\n",
    "        break;\n"
   ]
  },
  {
   "cell_type": "code",
   "execution_count": 5,
   "id": "7ccd5125",
   "metadata": {},
   "outputs": [
    {
     "name": "stdout",
     "output_type": "stream",
     "text": [
      "1 3 5 7\n",
      "0 2 6 8 9\n",
      "[0, 1, 2, 3, 5, 6, 7, 8, 9]\n"
     ]
    }
   ],
   "source": [
    "#12\n",
    "arr1 = list (map(int, input().strip().split()))\n",
    "arr2 = list (map(int, input().strip().split()))\n",
    "\n",
    "arr1 = arr1+arr2\n",
    "arr1.sort()\n",
    "print(arr1)"
   ]
  },
  {
   "cell_type": "code",
   "execution_count": 4,
   "id": "0ae6d2f1",
   "metadata": {},
   "outputs": [
    {
     "name": "stdout",
     "output_type": "stream",
     "text": [
      "4 5\n",
      "1 3 5 7\n",
      "0 2 6 8 9\n",
      "[0, 1, 2, 3]\n",
      "[5, 6, 7, 8, 9]\n"
     ]
    }
   ],
   "source": [
    "n,m = (map(int, input().strip().split()))\n",
    "arr1 = list (map(int, input().strip().split()))\n",
    "arr2 = list (map(int, input().strip().split()))\n",
    "\n",
    "arr1 = arr1+arr2\n",
    "arr1.sort()\n",
    "print(arr1[:n])\n",
    "print(arr1[n:])"
   ]
  },
  {
   "cell_type": "code",
   "execution_count": 19,
   "id": "b20fa94e",
   "metadata": {},
   "outputs": [
    {
     "name": "stdout",
     "output_type": "stream",
     "text": [
      "4\n",
      "-1 -2 -3 -4\n",
      "-1\n"
     ]
    }
   ],
   "source": [
    "#13\n",
    "#Going with brute force Approch\n",
    "\n",
    "n = int (input())\n",
    "arr = list(map(int ,input().strip().split()))\n",
    "maxsum = -99999\n",
    "for i in range(len(arr)):\n",
    "    sum = 0\n",
    "    for j in range(i,len(arr)):\n",
    "        sum+=arr[j] \n",
    "        \n",
    "        maxsum = max(maxsum, sum)\n",
    "print(maxsum)\n",
    "        "
   ]
  },
  {
   "cell_type": "code",
   "execution_count": 2,
   "id": "74768a97",
   "metadata": {},
   "outputs": [
    {
     "name": "stdout",
     "output_type": "stream",
     "text": [
      "-1\n"
     ]
    }
   ],
   "source": [
    "maximum = -99999\n",
    "for i in range(0, len(arr)):\n",
    "    sum=0\n",
    "    for j in range(i, len(arr)):\n",
    "          sum += arr[j]\n",
    "          maximum = max(sum, maximum)\n",
    "print(maximum)"
   ]
  },
  {
   "cell_type": "code",
   "execution_count": 4,
   "id": "c7a03548",
   "metadata": {},
   "outputs": [
    {
     "name": "stdout",
     "output_type": "stream",
     "text": [
      "4\n",
      "-1 -2 -3 -4\n",
      "0\n"
     ]
    }
   ],
   "source": [
    "#kadanes Algorithm\n",
    "n = int (input())\n",
    "arr = list(map(int ,input().strip().split()))\n",
    "\n",
    "current_sum = 0\n",
    "maximum_sum = -99999\n",
    "\n",
    "for i in range(len(arr)):\n",
    "    current_sum+=arr[i]\n",
    "    if current_sum <0:\n",
    "        current_sum = 0\n",
    "    maximum_sum = max(maximum_sum, current_sum)\n",
    "print(maximum_sum)"
   ]
  },
  {
   "cell_type": "code",
   "execution_count": 2,
   "id": "b9e07382",
   "metadata": {},
   "outputs": [
    {
     "name": "stdout",
     "output_type": "stream",
     "text": [
      "[[1,3],[2,6],[8,10],[15,18]]\n"
     ]
    },
    {
     "ename": "ValueError",
     "evalue": "invalid literal for int() with base 10: '[[1'",
     "output_type": "error",
     "traceback": [
      "\u001b[1;31m---------------------------------------------------------------------------\u001b[0m",
      "\u001b[1;31mValueError\u001b[0m                                Traceback (most recent call last)",
      "Input \u001b[1;32mIn [2]\u001b[0m, in \u001b[0;36m<cell line: 2>\u001b[1;34m()\u001b[0m\n\u001b[0;32m      1\u001b[0m \u001b[38;5;66;03m#14\u001b[39;00m\n\u001b[1;32m----> 2\u001b[0m intervals \u001b[38;5;241m=\u001b[39m \u001b[38;5;28mlist\u001b[39m(\u001b[38;5;28;43mlist\u001b[39;49m\u001b[43m(\u001b[49m\u001b[38;5;28;43mmap\u001b[39;49m\u001b[43m(\u001b[49m\u001b[38;5;28;43mint\u001b[39;49m\u001b[43m \u001b[49m\u001b[43m,\u001b[49m\u001b[38;5;28;43minput\u001b[39;49m\u001b[43m(\u001b[49m\u001b[43m)\u001b[49m\u001b[38;5;241;43m.\u001b[39;49m\u001b[43mstrip\u001b[49m\u001b[43m(\u001b[49m\u001b[43m)\u001b[49m\u001b[38;5;241;43m.\u001b[39;49m\u001b[43msplit\u001b[49m\u001b[43m(\u001b[49m\u001b[38;5;124;43m\"\u001b[39;49m\u001b[38;5;124;43m,\u001b[39;49m\u001b[38;5;124;43m\"\u001b[39;49m\u001b[43m)\u001b[49m\u001b[43m)\u001b[49m\u001b[43m)\u001b[49m)\n\u001b[0;32m      3\u001b[0m intervals\u001b[38;5;241m.\u001b[39msort(key\u001b[38;5;241m=\u001b[39m \u001b[38;5;28;01mlambda\u001b[39;00m x:x[\u001b[38;5;241m0\u001b[39m])\n\u001b[0;32m      4\u001b[0m merged\u001b[38;5;241m=\u001b[39m[]\n",
      "\u001b[1;31mValueError\u001b[0m: invalid literal for int() with base 10: '[[1'"
     ]
    }
   ],
   "source": [
    "#14\n",
    "# intervals = list(list(map(int ,input().strip().split(\",\"))))\n",
    "\n",
    "intervals.sort(key= lambda x:x[0])\n",
    "merged=[]\n",
    "\n",
    "for interval in intervals:\n",
    "    if not merged or merged[-1][1] < interval[0]:\n",
    "        merged.append(interval)\n",
    "    else:\n",
    "        merged[-1][1] = max(merged[-1][1], interval[1])\n",
    "print(merged)\n"
   ]
  },
  {
   "cell_type": "code",
   "execution_count": 8,
   "id": "cd86a9a4",
   "metadata": {},
   "outputs": [
    {
     "name": "stdout",
     "output_type": "stream",
     "text": [
      "[[1, 6], [8, 10], [15, 18]]\n"
     ]
    }
   ],
   "source": [
    "class Solution:\n",
    "    def merge(self, intervals: list[list[int]])->list[list[int]]:\n",
    "        intervals.sort(key= lambda x:x[0])\n",
    "        merged=[]\n",
    "\n",
    "        for interval in intervals:\n",
    "            if not merged or merged[-1][1] < interval[0]:\n",
    "                merged.append(interval)\n",
    "            else:\n",
    "                merged[-1][1] = max(merged[-1][1], interval[1])\n",
    "        return merged\n",
    "\n",
    "intervals = [[1,3],[2,6],[8,10],[15,18]]\n",
    "ori = Solution()\n",
    "print(ori.merge(intervals))\n"
   ]
  },
  {
   "cell_type": "code",
   "execution_count": 22,
   "id": "65d95398",
   "metadata": {},
   "outputs": [
    {
     "name": "stdout",
     "output_type": "stream",
     "text": [
      "[1, 3, 2]\n"
     ]
    }
   ],
   "source": [
    "#15\n",
    "class Solution:\n",
    "    def nextPermutation(self,nums:list[int])->None:\n",
    "        #checking for reverse accending order which is not allowed.\n",
    "        pointer = None\n",
    "        for i in reversed(range(len(nums))):\n",
    "            if nums[i-1]<nums[i]:\n",
    "                pointer = i\n",
    "                break\n",
    "        if not pointer:\n",
    "            nums.sort()\n",
    "        else:\n",
    "            replace = len(nums)-1\n",
    "            while nums[replace] <= nums[pointer-1]:\n",
    "                replace-=1\n",
    "            nums[replace],nums[pointer-1] = nums[pointer-1],nums[replace]\n",
    "            nums[pointer:] = sorted(nums[pointer:])\n",
    "        print(nums)\n",
    "\n",
    "nums = [1,2,3]\n",
    "ori = Solution()\n",
    "ori.nextPermutation(nums)"
   ]
  },
  {
   "cell_type": "code",
   "execution_count": null,
   "id": "bb3054ff",
   "metadata": {},
   "outputs": [],
   "source": [
    "#16"
   ]
  },
  {
   "cell_type": "code",
   "execution_count": 9,
   "id": "b766b69c",
   "metadata": {},
   "outputs": [
    {
     "name": "stdout",
     "output_type": "stream",
     "text": [
      "2 4 1\n",
      "2\n"
     ]
    }
   ],
   "source": [
    "#17\n",
    "class Solution:\n",
    "    def maxProfit(self, prices:list[int])->int:\n",
    "        mini = 9999\n",
    "        profit = 0\n",
    "        \n",
    "        for i in prices:\n",
    "            mini = min(i , mini)\n",
    "            profit = max(i - mini, profit)\n",
    "        \n",
    "        \n",
    "        return profit\n",
    "    \n",
    "prices = list(map(int,input().strip().split()))\n",
    "obj = Solution()\n",
    "print(obj.maxProfit(prices))\n",
    "        "
   ]
  },
  {
   "cell_type": "code",
   "execution_count": 13,
   "id": "3f0b452a",
   "metadata": {},
   "outputs": [
    {
     "name": "stdout",
     "output_type": "stream",
     "text": [
      "6\n"
     ]
    }
   ],
   "source": [
    "count =0\n",
    "arr = [1,1,1,1]\n",
    "for i in range(len(arr)):\n",
    "    for j in range(i+1,len(arr)):\n",
    "        if (arr[i]+ arr[j]== 2):\n",
    "            count +=1\n",
    "            \n",
    "print(count)"
   ]
  },
  {
   "cell_type": "code",
   "execution_count": 23,
   "id": "bed9c6a5",
   "metadata": {},
   "outputs": [
    {
     "name": "stdout",
     "output_type": "stream",
     "text": [
      "3\n",
      "{1: 1, 5: 2, 7: 1, -1: 1}\n"
     ]
    }
   ],
   "source": [
    "#18\n",
    "map_ = {}\n",
    "count = 0\n",
    "arr= [ 1,5,7,-1,5]\n",
    "k=6\n",
    "for i in range(len(arr)):\n",
    "    if k-arr[i] in map_:\n",
    "        count+=map_[k-arr[i]]\n",
    "    if arr[i] in map_:\n",
    "        map_[arr[i]] = map_[arr[i]] + 1\n",
    "    else:\n",
    "        map_[arr[i]] = 1\n",
    "print(count)\n",
    "print(map_)\n",
    "    "
   ]
  },
  {
   "cell_type": "code",
   "execution_count": 2,
   "id": "4a99e305",
   "metadata": {
    "scrolled": true
   },
   "outputs": [
    {
     "name": "stdout",
     "output_type": "stream",
     "text": [
      "1 5 10 20 40 80\n",
      "6 7 20 80 100\n",
      "3 4 15 20 30 70 80 120\n",
      "20\n",
      "80\n"
     ]
    }
   ],
   "source": [
    "#19\n",
    "A = list(map(int ,input().strip().split()))\n",
    "B = list(map(int ,input().strip().split()))\n",
    "C = list(map(int ,input().strip().split()))\n",
    "\n",
    "for element in A:\n",
    "    if((element in B) and (element in C)):\n",
    "        print(element)"
   ]
  },
  {
   "cell_type": "code",
   "execution_count": 10,
   "id": "e2b1fe24",
   "metadata": {},
   "outputs": [
    {
     "name": "stdout",
     "output_type": "stream",
     "text": [
      "1 2 3 4 5\n",
      "False\n"
     ]
    }
   ],
   "source": [
    "#20\n",
    "current_sum = 0\n",
    "flag = False\n",
    "arr = list(map(int ,input().strip().split()))\n",
    "for i in range(len(arr)):\n",
    "    current_sum+=arr[i]\n",
    "    if current_sum==0:\n",
    "        flag=True\n",
    "        break\n",
    "if(flag==True):\n",
    "    print(\"True\")\n",
    "else:\n",
    "    print(\"False\")"
   ]
  },
  {
   "cell_type": "code",
   "execution_count": 22,
   "id": "e66bbcba",
   "metadata": {},
   "outputs": [
    {
     "name": "stdout",
     "output_type": "stream",
     "text": [
      "2 6 1 9 4 5 3\n",
      "6\n"
     ]
    }
   ],
   "source": [
    "#20\n",
    "arr = list( map(int, input().strip().split()))\n",
    "s = set(arr)\n",
    "for i in range(len(arr)):\n",
    "    if( arr[i] not in s):\n",
    "        j = arr[i]\n",
    "        while(j in s):\n",
    "            j+=1\n",
    "        ans = max(ans,j-arr[i])\n",
    "print(ans)"
   ]
  },
  {
   "cell_type": "code",
   "execution_count": 39,
   "id": "8d509436",
   "metadata": {},
   "outputs": [
    {
     "name": "stdout",
     "output_type": "stream",
     "text": [
      "{1: 5, 2: 4, 3: 2, 5: 1, 4: 1}\n",
      "2 1 1 \n",
      " 3\n"
     ]
    }
   ],
   "source": [
    "#21\n",
    "arr = [1, 1 ,2, 2, 3 ,5 ,4 ,2 ,2 ,3 ,1 ,1 ,1]\n",
    "dic ={ }\n",
    "cnt =0\n",
    "for i in arr:\n",
    "    dic[i]=arr.count(i)\n",
    "print(dic)\n",
    "x = len(arr)//4\n",
    "for k,v in dic.items():\n",
    "    if(dic[v]>x):\n",
    "        cnt+=1\n",
    "        print(dic[k],end=\" \")\n",
    "print(\"\\n\",cnt)"
   ]
  },
  {
   "cell_type": "code",
   "execution_count": 60,
   "id": "dd877167",
   "metadata": {},
   "outputs": [
    {
     "name": "stdout",
     "output_type": "stream",
     "text": [
      "7 1 5 3 6 4\n",
      "5\n"
     ]
    }
   ],
   "source": [
    "#22\n",
    "arr = list( map(int, input().strip().split()))\n",
    "\n",
    "first_buy = -9999\n",
    "first_sell =0 \n",
    "second_buy = -9999\n",
    "second_sell =0\n",
    "\n",
    "for i in range(len(arr)):\n",
    "    first_buy = max(first_buy , -arr[i])\n",
    "    first_sell = max(first_sell, first_buy+arr[i])\n",
    "#     second_buy = max(second_buy ,first_sell -arr[i])\n",
    "#     second_sell = max(second_sell, second_buy+arr[i])\n",
    "print(first_sell)\n",
    "\n",
    "    "
   ]
  },
  {
   "cell_type": "code",
   "execution_count": 66,
   "id": "57959ae9",
   "metadata": {},
   "outputs": [
    {
     "name": "stdout",
     "output_type": "stream",
     "text": [
      "10 5 2 23 19\n",
      "19 5 3\n",
      "No\n"
     ]
    }
   ],
   "source": [
    "#23\n",
    "arr1 = list( map(int, input().strip().split()))\n",
    "arr2 = list( map(int, input().strip().split()))\n",
    "cnt =0\n",
    "arr2_len = len(arr2)\n",
    "for ele in arr2:\n",
    "    if ele in arr1:\n",
    "        cnt += 1\n",
    "        \n",
    "    else:\n",
    "        break\n",
    "if(cnt == arr2_len):\n",
    "    print(\"Yes\")\n",
    "else:\n",
    "    print(\"No\")"
   ]
  },
  {
   "cell_type": "code",
   "execution_count": 67,
   "id": "f7c45bf8",
   "metadata": {},
   "outputs": [
    {
     "name": "stdout",
     "output_type": "stream",
     "text": [
      "1 4 45 6 10 8\n",
      "22\n",
      "6   8   10\n"
     ]
    }
   ],
   "source": [
    "#24\n",
    "arr = list( map(int, input().strip().split()))\n",
    "x = int(input())\n",
    "for i in range(len(arr)):\n",
    "    s = set()\n",
    "    current_sum = x-arr[i]\n",
    "    for j in range(i+1,len(arr)):\n",
    "        if(current_sum-arr[i]) in s:\n",
    "            print(arr[i],\" \",arr[j],\" \",current_sum-arr[i])\n",
    "        s.add(arr[j])\n",
    "        "
   ]
  },
  {
   "cell_type": "code",
   "execution_count": 2,
   "id": "133c2cfd",
   "metadata": {},
   "outputs": [
    {
     "name": "stdout",
     "output_type": "stream",
     "text": [
      "3 0 0 2 0 4\n"
     ]
    },
    {
     "ename": "IndexError",
     "evalue": "list index out of range",
     "output_type": "error",
     "traceback": [
      "\u001b[1;31m---------------------------------------------------------------------------\u001b[0m",
      "\u001b[1;31mIndexError\u001b[0m                                Traceback (most recent call last)",
      "Input \u001b[1;32mIn [2]\u001b[0m, in \u001b[0;36m<cell line: 11>\u001b[1;34m()\u001b[0m\n\u001b[0;32m      9\u001b[0m higher \u001b[38;5;241m=\u001b[39m \u001b[38;5;28mlen\u001b[39m(arr)\u001b[38;5;241m-\u001b[39m\u001b[38;5;241m1\u001b[39m\n\u001b[0;32m     11\u001b[0m \u001b[38;5;28;01mwhile\u001b[39;00m(lower\u001b[38;5;241m<\u001b[39m\u001b[38;5;241m=\u001b[39mhigher):\n\u001b[1;32m---> 12\u001b[0m     \u001b[38;5;28;01mif\u001b[39;00m(arr[lower]\u001b[38;5;241m<\u001b[39m\u001b[43marr\u001b[49m\u001b[43m[\u001b[49m\u001b[43mhigher\u001b[49m\u001b[43m]\u001b[49m):\n\u001b[0;32m     13\u001b[0m         \u001b[38;5;28;01mif\u001b[39;00m(arr[lower]\u001b[38;5;241m>\u001b[39ml_max):\n\u001b[0;32m     14\u001b[0m             l_max \u001b[38;5;241m=\u001b[39m arr[lower]\n",
      "\u001b[1;31mIndexError\u001b[0m: list index out of range"
     ]
    }
   ],
   "source": [
    "#25\n",
    "arr = list( map(int, input().strip().split()))\n",
    "result = 0\n",
    "\n",
    "l_max = 0\n",
    "r_max = 0\n",
    "\n",
    "lower = 0\n",
    "higher = len(arr)-1\n",
    "\n",
    "while(lower<=higher):\n",
    "    if(arr[lower]<arr[higher]):\n",
    "        if(arr[lower]>l_max):\n",
    "            l_max = arr[lower]\n",
    "        else:\n",
    "            result+=l_max-arr[lower]\n",
    "        lower+=1\n",
    "    else:\n",
    "        if(arr[higher]>r_max):\n",
    "            r_max = arr[higher]\n",
    "        else:\n",
    "            result+=r_max - arr[higher]\n",
    "        higher+=1\n",
    "print(result)"
   ]
  },
  {
   "cell_type": "code",
   "execution_count": 6,
   "id": "6c71a67f",
   "metadata": {},
   "outputs": [
    {
     "name": "stdout",
     "output_type": "stream",
     "text": [
      "1 14 5 20 4 2 54 20 87 98 3 1 32\n",
      "14 20\n",
      "[1, 5, 4, 2, 3, 1, 14, 20, 54, 20, 87, 98, 32]\n"
     ]
    }
   ],
   "source": [
    "#27\n",
    "\n",
    "arr = list( map(int, input().strip().split()))\n",
    "rang = list( map(int, input().strip().split()))\n",
    "\n",
    "arr1=[]\n",
    "arr2=[]\n",
    "arr3=[]\n",
    "\n",
    "for i in arr:\n",
    "    if i < rang[0]:\n",
    "        arr1.append(i)\n",
    "    elif i>rang[0] and i<rang[1]:\n",
    "        arr2.append(i)\n",
    "    else:\n",
    "        arr3.append(i)\n",
    "print(arr1+arr2+arr3)"
   ]
  },
  {
   "cell_type": "code",
   "execution_count": 2,
   "id": "5a7ae68a",
   "metadata": {},
   "outputs": [
    {
     "name": "stdout",
     "output_type": "stream",
     "text": [
      "True\n"
     ]
    }
   ],
   "source": [
    "#subarray with 0 sum\n",
    "current = -1\n",
    "arr = [-1,3,-1,3]\n",
    "flag = 0\n",
    "for i in range(len(arr)):\n",
    "    current+=arr[i]\n",
    "    if current == 0:\n",
    "        flag = 1\n",
    "        break\n",
    "if flag == 0:\n",
    "    print(\"False\")\n",
    "else:\n",
    "    print(\"True\")"
   ]
  },
  {
   "cell_type": "code",
   "execution_count": 11,
   "id": "398502b4",
   "metadata": {},
   "outputs": [
    {
     "name": "stdout",
     "output_type": "stream",
     "text": [
      "4\n"
     ]
    }
   ],
   "source": [
    "#Longest Consecutive subsequence\n",
    "def LCS(nums):\n",
    "    if not nums:\n",
    "        return \n",
    "    nums = sorted(list(set(nums)))\n",
    "    sofar,output = 1,1\n",
    "    for i in range(1,len(nums)):\n",
    "        if nums[i-1]+1 == nums[i]:\n",
    "            sofar+=1\n",
    "        else:\n",
    "            sofar=1\n",
    "        output = max(sofar,output)\n",
    "    return output\n",
    "arr = [200,1,300,2,3,4]\n",
    "print(LCS(arr))"
   ]
  },
  {
   "cell_type": "code",
   "execution_count": 12,
   "id": "ac85373c",
   "metadata": {},
   "outputs": [
    {
     "name": "stdout",
     "output_type": "stream",
     "text": [
      "4\n"
     ]
    }
   ],
   "source": [
    "def LCS_(nums):\n",
    "    if not nums:\n",
    "        return\n",
    "    nums = set(nums)\n",
    "    output = 0\n",
    "    for n in nums:\n",
    "        if n-1 not in nums:\n",
    "            start = n\n",
    "            while start in nums:\n",
    "                start+=1\n",
    "            output = max(output, start-n)\n",
    "    return output\n",
    "arr = [200,1,300,2,3,4]\n",
    "print(LCS(arr))"
   ]
  },
  {
   "cell_type": "code",
   "execution_count": 1,
   "id": "5a62db7f",
   "metadata": {},
   "outputs": [],
   "source": [
    "#maximum profit by buying and selling a share at most twice\n",
    "import sys\n",
    "def maxprofit(arr,size):\n",
    "    first_buy = -sys.maxsize\n",
    "    first_sell = 0\n",
    "    second_buy = -sys.maxsize\n",
    "    second_buy = 0\n",
    "    \n",
    "    for i in range(size):\n",
    "        first_buy = max(first_buy, arr[i])\n",
    "        first_sell = max(first_sell, first_buy+arr[i])\n",
    "        second_buy = max(second_buy, first_sell+arr[i])\n",
    "        second_sell = max(second_sell, second_buy+arr[i])\n",
    "    return second_sell\n"
   ]
  },
  {
   "cell_type": "code",
   "execution_count": 11,
   "id": "efbff22a",
   "metadata": {},
   "outputs": [
    {
     "name": "stdout",
     "output_type": "stream",
     "text": [
      "4 8 10\n",
      "True\n"
     ]
    }
   ],
   "source": [
    "#Triplet sum in array\n",
    "def sum_triplet(A, x):\n",
    "    A.sort()\n",
    "    for i in range(len(A)-1):\n",
    "        \n",
    "        l = i+1 #1st element index\n",
    "        r = len(A)-1  #last element index\n",
    "        \n",
    "        while(l<r):\n",
    "            if(A[i]+A[l]+A[r]==x):\n",
    "                print(A[i], A[l], A[r])\n",
    "                return True\n",
    "            elif(A[i]+A[l]+A[r]<x):\n",
    "                l+=1\n",
    "            elif(A[i]+A[l]+A[r]>x):r-=1\n",
    "    return False\n",
    "A = [1, 4, 45, 6, 10, 8]\n",
    "sum = 22\n",
    "arr_size = len(A)\n",
    "print(sum_triplet(A,sum))"
   ]
  },
  {
   "cell_type": "code",
   "execution_count": null,
   "id": "141d9646",
   "metadata": {},
   "outputs": [],
   "source": []
  }
 ],
 "metadata": {
  "kernelspec": {
   "display_name": "Python 3 (ipykernel)",
   "language": "python",
   "name": "python3"
  },
  "language_info": {
   "codemirror_mode": {
    "name": "ipython",
    "version": 3
   },
   "file_extension": ".py",
   "mimetype": "text/x-python",
   "name": "python",
   "nbconvert_exporter": "python",
   "pygments_lexer": "ipython3",
   "version": "3.9.12"
  }
 },
 "nbformat": 4,
 "nbformat_minor": 5
}
