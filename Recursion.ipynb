{
 "cells": [
  {
   "cell_type": "code",
   "execution_count": 1,
   "id": "b34ff8c0",
   "metadata": {},
   "outputs": [
    {
     "name": "stdout",
     "output_type": "stream",
     "text": [
      "5\n",
      "4\n",
      "3\n",
      "2\n",
      "1\n"
     ]
    }
   ],
   "source": [
    "#print 5 to 1:\n",
    "def rec1(n1):\n",
    "    if n1==0:\n",
    "        return\n",
    "    print(n1)\n",
    "    rec1(n1-1)\n",
    "rec1(5)"
   ]
  },
  {
   "cell_type": "code",
   "execution_count": 3,
   "id": "7aef970f",
   "metadata": {},
   "outputs": [
    {
     "name": "stdout",
     "output_type": "stream",
     "text": [
      "1\n",
      "2\n",
      "3\n",
      "4\n",
      "5\n"
     ]
    }
   ],
   "source": [
    "#print 1 to 5\n",
    "def rec1(n1):\n",
    "    if n1==6:\n",
    "        return\n",
    "    print(n1)\n",
    "    rec1(n1+1)\n",
    "rec1(1)"
   ]
  },
  {
   "cell_type": "code",
   "execution_count": 6,
   "id": "3f7d5fda",
   "metadata": {},
   "outputs": [
    {
     "name": "stdout",
     "output_type": "stream",
     "text": [
      "6\n"
     ]
    }
   ],
   "source": [
    "#print sum of n numbers\n",
    "def summe(n,su):\n",
    "    if n==1:\n",
    "        print(su+n)\n",
    "        return\n",
    "    su+=n\n",
    "    summe(n-1,su)\n",
    "    \n",
    "summe(3,su=0)"
   ]
  },
  {
   "cell_type": "code",
   "execution_count": 13,
   "id": "d25b7164",
   "metadata": {},
   "outputs": [
    {
     "name": "stdout",
     "output_type": "stream",
     "text": [
      "120\n"
     ]
    }
   ],
   "source": [
    "#fact\n",
    "def fact(n,su):\n",
    "    if n==0:\n",
    "        print(su)\n",
    "        return \n",
    "    su*=n\n",
    "    fact(n-1,su)\n",
    "fact(5,su=1)"
   ]
  },
  {
   "cell_type": "markdown",
   "id": "411c157d",
   "metadata": {},
   "source": []
  },
  {
   "cell_type": "code",
   "execution_count": 4,
   "id": "a756a70a",
   "metadata": {},
   "outputs": [
    {
     "name": "stdout",
     "output_type": "stream",
     "text": [
      "0\n",
      "1\n",
      "1\n",
      "2\n",
      "3\n"
     ]
    }
   ],
   "source": [
    "#fibonacci\n",
    "def fib(a,b,n):\n",
    "    if n==0:\n",
    "        return \n",
    "    c = a+b\n",
    "    print(c)\n",
    "    fib(b,c,n-1)\n",
    "        \n",
    "a = 0\n",
    "b = 1\n",
    "print(a)\n",
    "print(b)\n",
    "n = 5\n",
    "fib(a,b,n-2)\n",
    "    \n",
    "    "
   ]
  },
  {
   "cell_type": "code",
   "execution_count": 2,
   "id": "52cf0bb0",
   "metadata": {},
   "outputs": [
    {
     "name": "stdout",
     "output_type": "stream",
     "text": [
      "32\n"
     ]
    }
   ],
   "source": [
    "#x^n\n",
    "def x_n(x,n):\n",
    "    if n==0:\n",
    "        print(x)\n",
    "        return \n",
    "    p=2\n",
    "    x = x*p\n",
    "    x_n(x,n-1)\n",
    "\n",
    "x_n(2,4)"
   ]
  },
  {
   "cell_type": "code",
   "execution_count": 1,
   "id": "07ded524",
   "metadata": {},
   "outputs": [
    {
     "ename": "KeyboardInterrupt",
     "evalue": "",
     "output_type": "error",
     "traceback": [
      "\u001b[1;31m---------------------------------------------------------------------------\u001b[0m",
      "\u001b[1;31mKeyboardInterrupt\u001b[0m                         Traceback (most recent call last)",
      "Input \u001b[1;32mIn [1]\u001b[0m, in \u001b[0;36m<cell line: 11>\u001b[1;34m()\u001b[0m\n\u001b[0;32m      9\u001b[0m     \u001b[38;5;28;01melse\u001b[39;00m:\n\u001b[0;32m     10\u001b[0m         \u001b[38;5;28;01mreturn\u001b[39;00m (fun(x,n\u001b[38;5;241m/\u001b[39m\u001b[38;5;241m2\u001b[39m)\u001b[38;5;241m*\u001b[39mfun(x,n\u001b[38;5;241m/\u001b[39m\u001b[38;5;241m2\u001b[39m)\u001b[38;5;241m*\u001b[39mx)\n\u001b[1;32m---> 11\u001b[0m \u001b[38;5;28mprint\u001b[39m(\u001b[43mfun\u001b[49m\u001b[43m(\u001b[49m\u001b[38;5;241;43m2\u001b[39;49m\u001b[43m,\u001b[49m\u001b[38;5;241;43m4\u001b[39;49m\u001b[43m)\u001b[49m)\n",
      "Input \u001b[1;32mIn [1]\u001b[0m, in \u001b[0;36mfun\u001b[1;34m(x, n)\u001b[0m\n\u001b[0;32m      6\u001b[0m     \u001b[38;5;28;01mreturn\u001b[39;00m \u001b[38;5;241m0\u001b[39m\n\u001b[0;32m      7\u001b[0m \u001b[38;5;28;01mif\u001b[39;00m n\u001b[38;5;241m%\u001b[39m\u001b[38;5;241m2\u001b[39m\u001b[38;5;241m==\u001b[39m\u001b[38;5;241m0\u001b[39m:\n\u001b[1;32m----> 8\u001b[0m     \u001b[38;5;28;01mreturn\u001b[39;00m (\u001b[43mfun\u001b[49m\u001b[43m(\u001b[49m\u001b[43mx\u001b[49m\u001b[43m,\u001b[49m\u001b[43mn\u001b[49m\u001b[38;5;241;43m/\u001b[39;49m\u001b[38;5;241;43m2\u001b[39;49m\u001b[43m)\u001b[49m\u001b[38;5;241m*\u001b[39mfun(x,n\u001b[38;5;241m/\u001b[39m\u001b[38;5;241m2\u001b[39m))\n\u001b[0;32m      9\u001b[0m \u001b[38;5;28;01melse\u001b[39;00m:\n\u001b[0;32m     10\u001b[0m     \u001b[38;5;28;01mreturn\u001b[39;00m (fun(x,n\u001b[38;5;241m/\u001b[39m\u001b[38;5;241m2\u001b[39m)\u001b[38;5;241m*\u001b[39mfun(x,n\u001b[38;5;241m/\u001b[39m\u001b[38;5;241m2\u001b[39m)\u001b[38;5;241m*\u001b[39mx)\n",
      "Input \u001b[1;32mIn [1]\u001b[0m, in \u001b[0;36mfun\u001b[1;34m(x, n)\u001b[0m\n\u001b[0;32m      6\u001b[0m     \u001b[38;5;28;01mreturn\u001b[39;00m \u001b[38;5;241m0\u001b[39m\n\u001b[0;32m      7\u001b[0m \u001b[38;5;28;01mif\u001b[39;00m n\u001b[38;5;241m%\u001b[39m\u001b[38;5;241m2\u001b[39m\u001b[38;5;241m==\u001b[39m\u001b[38;5;241m0\u001b[39m:\n\u001b[1;32m----> 8\u001b[0m     \u001b[38;5;28;01mreturn\u001b[39;00m (\u001b[43mfun\u001b[49m\u001b[43m(\u001b[49m\u001b[43mx\u001b[49m\u001b[43m,\u001b[49m\u001b[43mn\u001b[49m\u001b[38;5;241;43m/\u001b[39;49m\u001b[38;5;241;43m2\u001b[39;49m\u001b[43m)\u001b[49m\u001b[38;5;241m*\u001b[39mfun(x,n\u001b[38;5;241m/\u001b[39m\u001b[38;5;241m2\u001b[39m))\n\u001b[0;32m      9\u001b[0m \u001b[38;5;28;01melse\u001b[39;00m:\n\u001b[0;32m     10\u001b[0m     \u001b[38;5;28;01mreturn\u001b[39;00m (fun(x,n\u001b[38;5;241m/\u001b[39m\u001b[38;5;241m2\u001b[39m)\u001b[38;5;241m*\u001b[39mfun(x,n\u001b[38;5;241m/\u001b[39m\u001b[38;5;241m2\u001b[39m)\u001b[38;5;241m*\u001b[39mx)\n",
      "Input \u001b[1;32mIn [1]\u001b[0m, in \u001b[0;36mfun\u001b[1;34m(x, n)\u001b[0m\n\u001b[0;32m      8\u001b[0m     \u001b[38;5;28;01mreturn\u001b[39;00m (fun(x,n\u001b[38;5;241m/\u001b[39m\u001b[38;5;241m2\u001b[39m)\u001b[38;5;241m*\u001b[39mfun(x,n\u001b[38;5;241m/\u001b[39m\u001b[38;5;241m2\u001b[39m))\n\u001b[0;32m      9\u001b[0m \u001b[38;5;28;01melse\u001b[39;00m:\n\u001b[1;32m---> 10\u001b[0m     \u001b[38;5;28;01mreturn\u001b[39;00m (\u001b[43mfun\u001b[49m\u001b[43m(\u001b[49m\u001b[43mx\u001b[49m\u001b[43m,\u001b[49m\u001b[43mn\u001b[49m\u001b[38;5;241;43m/\u001b[39;49m\u001b[38;5;241;43m2\u001b[39;49m\u001b[43m)\u001b[49m\u001b[38;5;241m*\u001b[39mfun(x,n\u001b[38;5;241m/\u001b[39m\u001b[38;5;241m2\u001b[39m)\u001b[38;5;241m*\u001b[39mx)\n",
      "Input \u001b[1;32mIn [1]\u001b[0m, in \u001b[0;36mfun\u001b[1;34m(x, n)\u001b[0m\n\u001b[0;32m      8\u001b[0m     \u001b[38;5;28;01mreturn\u001b[39;00m (fun(x,n\u001b[38;5;241m/\u001b[39m\u001b[38;5;241m2\u001b[39m)\u001b[38;5;241m*\u001b[39mfun(x,n\u001b[38;5;241m/\u001b[39m\u001b[38;5;241m2\u001b[39m))\n\u001b[0;32m      9\u001b[0m \u001b[38;5;28;01melse\u001b[39;00m:\n\u001b[1;32m---> 10\u001b[0m     \u001b[38;5;28;01mreturn\u001b[39;00m (\u001b[43mfun\u001b[49m\u001b[43m(\u001b[49m\u001b[43mx\u001b[49m\u001b[43m,\u001b[49m\u001b[43mn\u001b[49m\u001b[38;5;241;43m/\u001b[39;49m\u001b[38;5;241;43m2\u001b[39;49m\u001b[43m)\u001b[49m\u001b[38;5;241m*\u001b[39mfun(x,n\u001b[38;5;241m/\u001b[39m\u001b[38;5;241m2\u001b[39m)\u001b[38;5;241m*\u001b[39mx)\n",
      "    \u001b[1;31m[... skipping similar frames: fun at line 10 (1070 times)]\u001b[0m\n",
      "Input \u001b[1;32mIn [1]\u001b[0m, in \u001b[0;36mfun\u001b[1;34m(x, n)\u001b[0m\n\u001b[0;32m      8\u001b[0m     \u001b[38;5;28;01mreturn\u001b[39;00m (fun(x,n\u001b[38;5;241m/\u001b[39m\u001b[38;5;241m2\u001b[39m)\u001b[38;5;241m*\u001b[39mfun(x,n\u001b[38;5;241m/\u001b[39m\u001b[38;5;241m2\u001b[39m))\n\u001b[0;32m      9\u001b[0m \u001b[38;5;28;01melse\u001b[39;00m:\n\u001b[1;32m---> 10\u001b[0m     \u001b[38;5;28;01mreturn\u001b[39;00m (\u001b[43mfun\u001b[49m(x,n\u001b[38;5;241m/\u001b[39m\u001b[38;5;241m2\u001b[39m)\u001b[38;5;241m*\u001b[39mfun(x,n\u001b[38;5;241m/\u001b[39m\u001b[38;5;241m2\u001b[39m)\u001b[38;5;241m*\u001b[39mx)\n",
      "\u001b[1;31mKeyboardInterrupt\u001b[0m: "
     ]
    }
   ],
   "source": [
    "#x^n\n",
    "def fun(x,n):\n",
    "    if n==0:\n",
    "        return 1 \n",
    "    if x== 0:\n",
    "        return 0\n",
    "    if n%2==0:\n",
    "        return (fun(x,n/2)*fun(x,n/2))\n",
    "    else:\n",
    "        return (fun(x,n/2)*fun(x,n/2)*x)\n",
    "print(fun(2,4))"
   ]
  },
  {
   "cell_type": "code",
   "execution_count": 6,
   "id": "0959a2c6",
   "metadata": {},
   "outputs": [
    {
     "name": "stdout",
     "output_type": "stream",
     "text": [
      "Transfering desk 1 from S to H\n",
      "Transfering desk 2 from S to D\n",
      "Transfering desk 1 from H to D\n"
     ]
    }
   ],
   "source": [
    "#Tower of Hanoi\n",
    "\n",
    "def towerOfHanaoi(n, src,helper,desti):\n",
    "    \n",
    "    if n==1:\n",
    "        print(f\"Transfering desk {n} from {src} to {desti}\")\n",
    "        return \n",
    "    towerOfHanaoi(n-1,src,desti,helper)\n",
    "    print(f\"Transfering desk {n} from {src} to {desti}\")\n",
    "    towerOfHanaoi(n-1,helper, src, desti)\n",
    "    \n",
    "n=2\n",
    "\n",
    "towerOfHanaoi(n,\"S\",\"H\",\"D\")"
   ]
  },
  {
   "cell_type": "code",
   "execution_count": 15,
   "id": "94bf3c7e",
   "metadata": {},
   "outputs": [
    {
     "name": "stdout",
     "output_type": "stream",
     "text": [
      "dcba"
     ]
    }
   ],
   "source": [
    "#Reversing a string\n",
    "\n",
    "def rev(s):\n",
    "    for i in range(len(s)-1,-1,-1):\n",
    "        print(s[i],end=\"\")\n",
    "\n",
    "rev(\"abcd\")"
   ]
  },
  {
   "cell_type": "code",
   "execution_count": 20,
   "id": "544eabf9",
   "metadata": {},
   "outputs": [
    {
     "name": "stdout",
     "output_type": "stream",
     "text": [
      "dcba"
     ]
    }
   ],
   "source": [
    "def rev(s,N):\n",
    "    if N==0:\n",
    "        return \n",
    "    print(s[-1],end=\"\")\n",
    "    rev(s[:N-1],N-1)\n",
    "rev(\"abcd\",4)"
   ]
  },
  {
   "cell_type": "code",
   "execution_count": 23,
   "id": "b417dc37",
   "metadata": {},
   "outputs": [
    {
     "name": "stdout",
     "output_type": "stream",
     "text": [
      "d\n",
      "c\n",
      "b\n",
      "a\n"
     ]
    }
   ],
   "source": [
    "def rev(s,idx):\n",
    "    if idx==0:\n",
    "        print(s[0])\n",
    "        return\n",
    "    print(s[idx])\n",
    "    rev(s,idx-1)\n",
    "rev(\"abcd\",3)\n"
   ]
  },
  {
   "cell_type": "code",
   "execution_count": 8,
   "id": "d87828d0",
   "metadata": {},
   "outputs": [
    {
     "name": "stdout",
     "output_type": "stream",
     "text": [
      "-1\n",
      "-1\n"
     ]
    }
   ],
   "source": [
    "#Find the first and last occurance of that element\n",
    "def occ(string,idx,element):\n",
    "    first = -1\n",
    "    last = -1\n",
    "    if(idx == len(string)):\n",
    "        print(first)\n",
    "        print(last)\n",
    "        return\n",
    "    currchar = 0\n",
    "    currchar == string.index(element)\n",
    "    if currchar==element:\n",
    "        if first == -1:\n",
    "            first = idx\n",
    "        else:\n",
    "            last = idx\n",
    "    occ(string,idx+1,element)\n",
    "\n",
    "occ(\"aabbac\",0,\"a\")"
   ]
  },
  {
   "cell_type": "code",
   "execution_count": 14,
   "id": "de290edd",
   "metadata": {},
   "outputs": [
    {
     "ename": "TypeError",
     "evalue": "string indices must be integers",
     "output_type": "error",
     "traceback": [
      "\u001b[1;31m---------------------------------------------------------------------------\u001b[0m",
      "\u001b[1;31mTypeError\u001b[0m                                 Traceback (most recent call last)",
      "Input \u001b[1;32mIn [14]\u001b[0m, in \u001b[0;36m<cell line: 15>\u001b[1;34m()\u001b[0m\n\u001b[0;32m     13\u001b[0m n\u001b[38;5;241m=\u001b[39m\u001b[38;5;241m5\u001b[39m\n\u001b[0;32m     14\u001b[0m x\u001b[38;5;241m=\u001b[39m\u001b[38;5;124m\"\u001b[39m\u001b[38;5;124ma\u001b[39m\u001b[38;5;124m\"\u001b[39m \n\u001b[1;32m---> 15\u001b[0m \u001b[43mocc\u001b[49m\u001b[43m(\u001b[49m\u001b[43ms\u001b[49m\u001b[43m,\u001b[49m\u001b[43mn\u001b[49m\u001b[43m,\u001b[49m\u001b[43mx\u001b[49m\u001b[43m)\u001b[49m\n",
      "Input \u001b[1;32mIn [14]\u001b[0m, in \u001b[0;36mocc\u001b[1;34m(s, n, x)\u001b[0m\n\u001b[0;32m      3\u001b[0m last \u001b[38;5;241m=\u001b[39m \u001b[38;5;241m-\u001b[39m\u001b[38;5;241m1\u001b[39m\n\u001b[0;32m      5\u001b[0m \u001b[38;5;28;01mfor\u001b[39;00m i \u001b[38;5;129;01min\u001b[39;00m \u001b[38;5;28mlist\u001b[39m(s):\n\u001b[1;32m----> 6\u001b[0m     \u001b[38;5;28;01mif\u001b[39;00m x \u001b[38;5;241m==\u001b[39m \u001b[43ms\u001b[49m\u001b[43m[\u001b[49m\u001b[43mi\u001b[49m\u001b[43m]\u001b[49m:\n\u001b[0;32m      7\u001b[0m         \u001b[38;5;28;01mif\u001b[39;00m first\u001b[38;5;241m==\u001b[39m\u001b[38;5;241m-\u001b[39m\u001b[38;5;241m1\u001b[39m:\n\u001b[0;32m      8\u001b[0m             first \u001b[38;5;241m=\u001b[39m s\u001b[38;5;241m.\u001b[39mindex(s[i])\n",
      "\u001b[1;31mTypeError\u001b[0m: string indices must be integers"
     ]
    }
   ],
   "source": [
    "def occ(s,n,x):\n",
    "    first = -1\n",
    "    last = -1\n",
    "    \n",
    "    for i in list(s):\n",
    "        if x == s[i]:\n",
    "            if first==-1:\n",
    "                first = s.index(s[i])\n",
    "            last = s.index([s[i]])\n",
    "    print(first)\n",
    "    print(last)\n",
    "s=\"aaaba\"\n",
    "n=5\n",
    "x=\"a\" \n",
    "occ(s,n,x)"
   ]
  },
  {
   "cell_type": "code",
   "execution_count": 12,
   "id": "75c07344",
   "metadata": {},
   "outputs": [],
   "source": [
    "s=list(\"aaaba\")"
   ]
  },
  {
   "cell_type": "code",
   "execution_count": 13,
   "id": "38aabc23",
   "metadata": {},
   "outputs": [
    {
     "data": {
      "text/plain": [
       "['a', 'a', 'a', 'b', 'a']"
      ]
     },
     "execution_count": 13,
     "metadata": {},
     "output_type": "execute_result"
    }
   ],
   "source": [
    "s"
   ]
  },
  {
   "cell_type": "code",
   "execution_count": 16,
   "id": "c76de8b7",
   "metadata": {},
   "outputs": [
    {
     "name": "stdout",
     "output_type": "stream",
     "text": [
      "0\n",
      "10\n"
     ]
    }
   ],
   "source": [
    "def firstLastOcc(string, x):\n",
    "    first = string.index(x)\n",
    "    string = string[::-1]\n",
    "    last = (len(string)-1) - string.index(x)\n",
    "    print(first)\n",
    "    print(last)\n",
    "firstLastOcc(\"abaacdaefaah\",\"a\")"
   ]
  },
  {
   "cell_type": "code",
   "execution_count": 1,
   "id": "9fbe8533",
   "metadata": {},
   "outputs": [
    {
     "name": "stdout",
     "output_type": "stream",
     "text": [
      "-1\n",
      "-1\n"
     ]
    }
   ],
   "source": [
    "def firstLastOcc(string, element, idx):\n",
    "    first = -1\n",
    "    last = -1\n",
    "    if idx==len(string)-1:\n",
    "        print(first)\n",
    "        print(last)\n",
    "        return\n",
    "    \n",
    "    currChar = string[idx]\n",
    "    if currChar == element:\n",
    "        if first == -1:\n",
    "            first = idx\n",
    "        else:\n",
    "            last = idx\n",
    "        \n",
    "    firstLastOcc(string,element,idx+1)\n",
    "\n",
    "firstLastOcc(\"aaaba\",\"a\",0)"
   ]
  },
  {
   "cell_type": "code",
   "execution_count": 1,
   "id": "fbc1116b",
   "metadata": {},
   "outputs": [
    {
     "name": "stdout",
     "output_type": "stream",
     "text": [
      "true\n"
     ]
    },
    {
     "ename": "IndexError",
     "evalue": "list index out of range",
     "output_type": "error",
     "traceback": [
      "\u001b[1;31m---------------------------------------------------------------------------\u001b[0m",
      "\u001b[1;31mIndexError\u001b[0m                                Traceback (most recent call last)",
      "Input \u001b[1;32mIn [1]\u001b[0m, in \u001b[0;36m<cell line: 13>\u001b[1;34m()\u001b[0m\n\u001b[0;32m      9\u001b[0m         \u001b[38;5;28mprint\u001b[39m(\u001b[38;5;124m\"\u001b[39m\u001b[38;5;124mfalse\u001b[39m\u001b[38;5;124m\"\u001b[39m)\n\u001b[0;32m     12\u001b[0m l\u001b[38;5;241m=\u001b[39m[\u001b[38;5;241m1\u001b[39m,\u001b[38;5;241m2\u001b[39m,\u001b[38;5;241m3\u001b[39m,\u001b[38;5;241m4\u001b[39m]\n\u001b[1;32m---> 13\u001b[0m \u001b[43msorting\u001b[49m\u001b[43m(\u001b[49m\u001b[43ml\u001b[49m\u001b[43m,\u001b[49m\u001b[38;5;241;43m0\u001b[39;49m\u001b[43m)\u001b[49m\n",
      "Input \u001b[1;32mIn [1]\u001b[0m, in \u001b[0;36msorting\u001b[1;34m(string, idx)\u001b[0m\n\u001b[0;32m      4\u001b[0m     \u001b[38;5;28mprint\u001b[39m(\u001b[38;5;124m\"\u001b[39m\u001b[38;5;124mtrue\u001b[39m\u001b[38;5;124m\"\u001b[39m)\n\u001b[0;32m      6\u001b[0m \u001b[38;5;28;01mif\u001b[39;00m string[idx]\u001b[38;5;241m<\u001b[39mstring[idx\u001b[38;5;241m+\u001b[39m\u001b[38;5;241m1\u001b[39m]:\n\u001b[1;32m----> 7\u001b[0m     \u001b[43msorting\u001b[49m\u001b[43m(\u001b[49m\u001b[43mstring\u001b[49m\u001b[43m,\u001b[49m\u001b[43midx\u001b[49m\u001b[38;5;241;43m+\u001b[39;49m\u001b[38;5;241;43m1\u001b[39;49m\u001b[43m)\u001b[49m\n\u001b[0;32m      8\u001b[0m \u001b[38;5;28;01melse\u001b[39;00m:\n\u001b[0;32m      9\u001b[0m     \u001b[38;5;28mprint\u001b[39m(\u001b[38;5;124m\"\u001b[39m\u001b[38;5;124mfalse\u001b[39m\u001b[38;5;124m\"\u001b[39m)\n",
      "Input \u001b[1;32mIn [1]\u001b[0m, in \u001b[0;36msorting\u001b[1;34m(string, idx)\u001b[0m\n\u001b[0;32m      4\u001b[0m     \u001b[38;5;28mprint\u001b[39m(\u001b[38;5;124m\"\u001b[39m\u001b[38;5;124mtrue\u001b[39m\u001b[38;5;124m\"\u001b[39m)\n\u001b[0;32m      6\u001b[0m \u001b[38;5;28;01mif\u001b[39;00m string[idx]\u001b[38;5;241m<\u001b[39mstring[idx\u001b[38;5;241m+\u001b[39m\u001b[38;5;241m1\u001b[39m]:\n\u001b[1;32m----> 7\u001b[0m     \u001b[43msorting\u001b[49m\u001b[43m(\u001b[49m\u001b[43mstring\u001b[49m\u001b[43m,\u001b[49m\u001b[43midx\u001b[49m\u001b[38;5;241;43m+\u001b[39;49m\u001b[38;5;241;43m1\u001b[39;49m\u001b[43m)\u001b[49m\n\u001b[0;32m      8\u001b[0m \u001b[38;5;28;01melse\u001b[39;00m:\n\u001b[0;32m      9\u001b[0m     \u001b[38;5;28mprint\u001b[39m(\u001b[38;5;124m\"\u001b[39m\u001b[38;5;124mfalse\u001b[39m\u001b[38;5;124m\"\u001b[39m)\n",
      "Input \u001b[1;32mIn [1]\u001b[0m, in \u001b[0;36msorting\u001b[1;34m(string, idx)\u001b[0m\n\u001b[0;32m      4\u001b[0m     \u001b[38;5;28mprint\u001b[39m(\u001b[38;5;124m\"\u001b[39m\u001b[38;5;124mtrue\u001b[39m\u001b[38;5;124m\"\u001b[39m)\n\u001b[0;32m      6\u001b[0m \u001b[38;5;28;01mif\u001b[39;00m string[idx]\u001b[38;5;241m<\u001b[39mstring[idx\u001b[38;5;241m+\u001b[39m\u001b[38;5;241m1\u001b[39m]:\n\u001b[1;32m----> 7\u001b[0m     \u001b[43msorting\u001b[49m\u001b[43m(\u001b[49m\u001b[43mstring\u001b[49m\u001b[43m,\u001b[49m\u001b[43midx\u001b[49m\u001b[38;5;241;43m+\u001b[39;49m\u001b[38;5;241;43m1\u001b[39;49m\u001b[43m)\u001b[49m\n\u001b[0;32m      8\u001b[0m \u001b[38;5;28;01melse\u001b[39;00m:\n\u001b[0;32m      9\u001b[0m     \u001b[38;5;28mprint\u001b[39m(\u001b[38;5;124m\"\u001b[39m\u001b[38;5;124mfalse\u001b[39m\u001b[38;5;124m\"\u001b[39m)\n",
      "Input \u001b[1;32mIn [1]\u001b[0m, in \u001b[0;36msorting\u001b[1;34m(string, idx)\u001b[0m\n\u001b[0;32m      3\u001b[0m \u001b[38;5;28;01mif\u001b[39;00m idx\u001b[38;5;241m==\u001b[39m\u001b[38;5;28mlen\u001b[39m(string)\u001b[38;5;241m-\u001b[39m\u001b[38;5;241m1\u001b[39m:\n\u001b[0;32m      4\u001b[0m     \u001b[38;5;28mprint\u001b[39m(\u001b[38;5;124m\"\u001b[39m\u001b[38;5;124mtrue\u001b[39m\u001b[38;5;124m\"\u001b[39m)\n\u001b[1;32m----> 6\u001b[0m \u001b[38;5;28;01mif\u001b[39;00m string[idx]\u001b[38;5;241m<\u001b[39m\u001b[43mstring\u001b[49m\u001b[43m[\u001b[49m\u001b[43midx\u001b[49m\u001b[38;5;241;43m+\u001b[39;49m\u001b[38;5;241;43m1\u001b[39;49m\u001b[43m]\u001b[49m:\n\u001b[0;32m      7\u001b[0m     sorting(string,idx\u001b[38;5;241m+\u001b[39m\u001b[38;5;241m1\u001b[39m)\n\u001b[0;32m      8\u001b[0m \u001b[38;5;28;01melse\u001b[39;00m:\n",
      "\u001b[1;31mIndexError\u001b[0m: list index out of range"
     ]
    }
   ],
   "source": [
    "#find strictly sorted array\n",
    "def sorting(string,idx):\n",
    "    if idx==len(string)-1:\n",
    "        print(\"true\")\n",
    "    \n",
    "    if string[idx]<string[idx+1]:\n",
    "        sorting(string,idx+1)\n",
    "    else:\n",
    "        print(\"false\")\n",
    "        \n",
    "    \n",
    "l=[1,2,3,4]\n",
    "sorting(l,0)"
   ]
  },
  {
   "cell_type": "code",
   "execution_count": 4,
   "id": "127e8ce2",
   "metadata": {},
   "outputs": [],
   "source": [
    "s = \"abcd\"+\"xxx\""
   ]
  },
  {
   "cell_type": "code",
   "execution_count": 5,
   "id": "84fe4135",
   "metadata": {},
   "outputs": [
    {
     "data": {
      "text/plain": [
       "'abcdxxx'"
      ]
     },
     "execution_count": 5,
     "metadata": {},
     "output_type": "execute_result"
    }
   ],
   "source": [
    "s"
   ]
  },
  {
   "cell_type": "code",
   "execution_count": 8,
   "id": "f6dbdc4c",
   "metadata": {},
   "outputs": [
    {
     "name": "stdout",
     "output_type": "stream",
     "text": [
      "abczqxxxx\n"
     ]
    }
   ],
   "source": [
    "#move all x to the end of string\n",
    "def move(s):\n",
    "    st1 = \"\"\n",
    "    st2 = \"\"\n",
    "    for ch in s:\n",
    "        if ch == \"x\":\n",
    "            st1+=ch\n",
    "        if ch!=\"x\":st2+=ch\n",
    "    return st2+st1\n",
    "print(move(\"axbxczxxq\"))"
   ]
  },
  {
   "cell_type": "code",
   "execution_count": 20,
   "id": "2d7d4e6a",
   "metadata": {},
   "outputs": [
    {
     "name": "stdout",
     "output_type": "stream",
     "text": [
      "None\n"
     ]
    }
   ],
   "source": [
    "def move_x(st1, idx, st2):\n",
    "    if idx == len(st1)-1:\n",
    "        return st2+st1\n",
    "    \n",
    "    if st1[idx] == \"x\":\n",
    "        st1.replace(\"x\",\"\")\n",
    "        st2=\"x\"\n",
    "    \n",
    "    move_x(st1,idx+1,st2)\n",
    "st1 = \"axbxczxxq\"\n",
    "print(move_x(st1,0,\"\"))"
   ]
  },
  {
   "cell_type": "code",
   "execution_count": 39,
   "id": "92e20340",
   "metadata": {},
   "outputs": [
    {
     "name": "stdout",
     "output_type": "stream",
     "text": [
      "abcdefz\n"
     ]
    }
   ],
   "source": [
    "#Remove all duplicates:\n",
    "def dupli(s):\n",
    "    s=set(list(s))\n",
    "    return \"\".join(sorted(s))\n",
    "\n",
    "print(dupli(\"aabbzzbbbcddddeeeeeeeef\"))\n",
    "    "
   ]
  },
  {
   "cell_type": "code",
   "execution_count": 56,
   "id": "a314b4b0",
   "metadata": {},
   "outputs": [
    {
     "name": "stdout",
     "output_type": "stream",
     "text": [
      "{'a': 2, 'b': 2, 'f': 4, 'd': 7}\n",
      "4\n"
     ]
    }
   ],
   "source": [
    "#print 2nd greater value in list:\n",
    "def grt_2(s):\n",
    "    s = list(s)\n",
    "    d={}\n",
    "    for ch in s:\n",
    "        d[ch] = s.count(ch)\n",
    "    print(d)\n",
    "    print(sorted(d.values())[-2])\n",
    "#     print(max(d.values()))\n",
    "    \n",
    "grt_2(\"aabbffffddddddd\")\n",
    "        "
   ]
  },
  {
   "cell_type": "code",
   "execution_count": 59,
   "id": "2ac228ba",
   "metadata": {},
   "outputs": [
    {
     "name": "stdout",
     "output_type": "stream",
     "text": [
      "{'z': 5, 'a': 11, 'b': 2, 'f': 4, 'd': 7}\n",
      "d\n"
     ]
    }
   ],
   "source": [
    "#print 2nd greater key in list:\n",
    "def grt_2(s):\n",
    "    s = list(s)\n",
    "    d={}\n",
    "    for ch in s:\n",
    "        d[ch] = s.count(ch)\n",
    "    print(d)\n",
    "    val = sorted(d.values())[-2]\n",
    "    for k,v in d.items():\n",
    "        if v == val:\n",
    "            print(k)\n",
    "        \n",
    "grt_2(\"zzzzzaaaaaaaaaaabbffffddddddd\")"
   ]
  },
  {
   "cell_type": "code",
   "execution_count": 66,
   "id": "80365da3",
   "metadata": {},
   "outputs": [
    {
     "name": "stdout",
     "output_type": "stream",
     "text": [
      "a\n",
      "\n"
     ]
    }
   ],
   "source": [
    "#printing subsequences of a string\n",
    "def subse(string, idx, newstring):\n",
    "    string = set(list(string))\n",
    "    string = \"\".join(string)\n",
    "    if idx == len(string):\n",
    "        print(newstring)\n",
    "        return \n",
    "    currChar = string[idx]\n",
    "    \n",
    "    subse(string, idx+1, newstring+currChar)\n",
    "    subse(string, idx+1, newstring)\n",
    "st = \"aaa\"\n",
    "subse(st,0,\"\")"
   ]
  },
  {
   "cell_type": "code",
   "execution_count": 74,
   "id": "a7a29104",
   "metadata": {},
   "outputs": [
    {
     "name": "stdout",
     "output_type": "stream",
     "text": [
      "abc acb bac bca cab cba "
     ]
    }
   ],
   "source": [
    "#Permutations of a string\n",
    "def permu(string, answer):\n",
    "\n",
    "    if len(string)==0:\n",
    "        \n",
    "        print(answer, end=\" \")\n",
    "        return \n",
    "    \n",
    "    for idx in range(len(string)):\n",
    "        ch = string[idx]\n",
    "        rest = string[:idx] + string[idx+1:]\n",
    "        \n",
    "        permu(rest,answer+ch)\n",
    "st = \"abc\"\n",
    "permu(st,\"\")"
   ]
  },
  {
   "cell_type": "code",
   "execution_count": 2,
   "id": "0b02df01",
   "metadata": {},
   "outputs": [
    {
     "name": "stdout",
     "output_type": "stream",
     "text": [
      "6\n"
     ]
    }
   ],
   "source": [
    "#Total path\n",
    "def totalpath(i,j,n,m):\n",
    "    if i==n-1 and j==m-1:\n",
    "        return 1\n",
    "    if i==n or j==m:\n",
    "        return 0\n",
    "    \n",
    "    downpath = totalpath(i+1,j,n,m)\n",
    "    rightpath = totalpath(i,j+1,n,m)\n",
    "    path = downpath+rightpath\n",
    "    \n",
    "    return path\n",
    "\n",
    "print(totalpath(0,0,3,3))"
   ]
  },
  {
   "cell_type": "code",
   "execution_count": 9,
   "id": "18608caa",
   "metadata": {},
   "outputs": [
    {
     "name": "stdout",
     "output_type": "stream",
     "text": [
      "5\n"
     ]
    }
   ],
   "source": [
    "#tileplacement\n",
    "def tileplacement(n,m):\n",
    "    if n==m:\n",
    "        return 2\n",
    "    if n<m:\n",
    "        return 1\n",
    "    verticalplacement = tileplacement(n-m,m)\n",
    "    horizontalplacement = tileplacement(n-1,m)\n",
    "    \n",
    "    return verticalplacement + horizontalplacement\n",
    "print(tileplacement(4,2))"
   ]
  },
  {
   "cell_type": "code",
   "execution_count": 1,
   "id": "183633e4",
   "metadata": {},
   "outputs": [
    {
     "name": "stdout",
     "output_type": "stream",
     "text": [
      "10\n"
     ]
    }
   ],
   "source": [
    "#CallGuest\n",
    "def callguest(n):\n",
    "    if n <=1:\n",
    "        return 1\n",
    "    way1 = callguest(n-1)\n",
    "    way2 = (n-1)*callguest(n-2)\n",
    "    \n",
    "    return way1+way2\n",
    "print(callguest(4))"
   ]
  },
  {
   "cell_type": "code",
   "execution_count": 8,
   "id": "356ee41c",
   "metadata": {},
   "outputs": [
    {
     "name": "stdout",
     "output_type": "stream",
     "text": [
      "[3, 2, 1]\n",
      "[3, 1]\n",
      "[3, 1]\n",
      "[3]\n"
     ]
    },
    {
     "ename": "ValueError",
     "evalue": "list.remove(x): x not in list",
     "output_type": "error",
     "traceback": [
      "\u001b[1;31m---------------------------------------------------------------------------\u001b[0m",
      "\u001b[1;31mValueError\u001b[0m                                Traceback (most recent call last)",
      "Input \u001b[1;32mIn [8]\u001b[0m, in \u001b[0;36m<cell line: 16>\u001b[1;34m()\u001b[0m\n\u001b[0;32m     14\u001b[0m n\u001b[38;5;241m=\u001b[39m\u001b[38;5;241m3\u001b[39m\n\u001b[0;32m     15\u001b[0m l\u001b[38;5;241m=\u001b[39m[]\n\u001b[1;32m---> 16\u001b[0m \u001b[43mfindsubset\u001b[49m\u001b[43m(\u001b[49m\u001b[43mn\u001b[49m\u001b[43m,\u001b[49m\u001b[43ml\u001b[49m\u001b[43m)\u001b[49m\n",
      "Input \u001b[1;32mIn [8]\u001b[0m, in \u001b[0;36mfindsubset\u001b[1;34m(n, l)\u001b[0m\n\u001b[0;32m      8\u001b[0m findsubset(n\u001b[38;5;241m-\u001b[39m\u001b[38;5;241m1\u001b[39m,l)\n\u001b[0;32m     10\u001b[0m \u001b[38;5;66;03m#removing\u001b[39;00m\n\u001b[1;32m---> 11\u001b[0m \u001b[43ml\u001b[49m\u001b[38;5;241;43m.\u001b[39;49m\u001b[43mremove\u001b[49m\u001b[43m(\u001b[49m\u001b[38;5;28;43mlen\u001b[39;49m\u001b[43m(\u001b[49m\u001b[43ml\u001b[49m\u001b[43m)\u001b[49m\u001b[38;5;241;43m-\u001b[39;49m\u001b[38;5;241;43m1\u001b[39;49m\u001b[43m)\u001b[49m\n\u001b[0;32m     12\u001b[0m findsubset(n\u001b[38;5;241m-\u001b[39m\u001b[38;5;241m1\u001b[39m,l)\n",
      "\u001b[1;31mValueError\u001b[0m: list.remove(x): x not in list"
     ]
    }
   ],
   "source": [
    "#subset\n",
    "def findsubset(n,l):\n",
    "    if n==0:\n",
    "        print(l)\n",
    "        return \n",
    "    #adding\n",
    "    l.append(n)\n",
    "    findsubset(n-1,l)\n",
    "    \n",
    "    #removing\n",
    "    l.remove(len(l)-1)\n",
    "    findsubset(n-1,l)\n",
    "\n",
    "n=3\n",
    "l=[]\n",
    "findsubset(n,l)"
   ]
  },
  {
   "cell_type": "code",
   "execution_count": null,
   "id": "8277791d",
   "metadata": {},
   "outputs": [],
   "source": []
  }
 ],
 "metadata": {
  "kernelspec": {
   "display_name": "Python 3 (ipykernel)",
   "language": "python",
   "name": "python3"
  },
  "language_info": {
   "codemirror_mode": {
    "name": "ipython",
    "version": 3
   },
   "file_extension": ".py",
   "mimetype": "text/x-python",
   "name": "python",
   "nbconvert_exporter": "python",
   "pygments_lexer": "ipython3",
   "version": "3.9.12"
  }
 },
 "nbformat": 4,
 "nbformat_minor": 5
}
