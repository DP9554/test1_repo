{
 "cells": [
  {
   "cell_type": "code",
   "execution_count": 6,
   "id": "2c74bc2b",
   "metadata": {},
   "outputs": [
    {
     "name": "stdout",
     "output_type": "stream",
     "text": [
      "4\n"
     ]
    }
   ],
   "source": [
    "# GP triplet\n",
    "def sol(arr,r):\n",
    "    number = {}\n",
    "    pair = {}\n",
    "    counter = 0\n",
    "    for i in reversed(arr):\n",
    "        if r*i in pair:\n",
    "            counter+= pair[r*i]\n",
    "        if r*i in number:\n",
    "            pair[i] = pair.get(i,0) + number[r*i]\n",
    "        number[i] = number.get(i,0) + 1\n",
    "    return counter\n",
    "arr = [8,4,2,2,4,8,16]\n",
    "print(sol(arr,2))"
   ]
  },
  {
   "cell_type": "code",
   "execution_count": 9,
   "id": "f173612b",
   "metadata": {},
   "outputs": [
    {
     "name": "stdout",
     "output_type": "stream",
     "text": [
      "3\n"
     ]
    }
   ],
   "source": [
    "#count number of rectangle form given co-ordinates\n",
    "def cnt(arr):\n",
    "    ans = 0\n",
    "    unique = set()\n",
    "    for i in range(len(arr)):\n",
    "        unique.add(f\"{arr[i]}\")\n",
    "    for i in range(len(arr)):\n",
    "        for j in range(len(arr)):\n",
    "            if ((arr[i][0]!=arr[j][0]) and (arr[i][1]!=arr[j][1])):\n",
    "                if (f\"{[arr[i][0],arr[j][1]]}\" in unique and f\"{[arr[i][0],arr[j][1]]}\" in unique):\n",
    "                        ans+=1\n",
    "    return ans//4\n",
    "N = 7\n",
    "ob = [0]*N\n",
    "ob[0] = [0, 0]\n",
    "ob[1] = [1, 0]\n",
    "ob[2] = [1, 1]\n",
    "ob[3] = [0, 1]\n",
    "ob[4] = [2, 0]\n",
    "ob[5] = [2, 1]\n",
    "ob[6] = [11, 23]\n",
    "print(cnt(ob))"
   ]
  },
  {
   "cell_type": "code",
   "execution_count": null,
   "id": "4d01abcb",
   "metadata": {},
   "outputs": [],
   "source": []
  },
  {
   "cell_type": "code",
   "execution_count": null,
   "id": "e4728faf",
   "metadata": {},
   "outputs": [],
   "source": []
  }
 ],
 "metadata": {
  "kernelspec": {
   "display_name": "Python 3 (ipykernel)",
   "language": "python",
   "name": "python3"
  },
  "language_info": {
   "codemirror_mode": {
    "name": "ipython",
    "version": 3
   },
   "file_extension": ".py",
   "mimetype": "text/x-python",
   "name": "python",
   "nbconvert_exporter": "python",
   "pygments_lexer": "ipython3",
   "version": "3.9.12"
  }
 },
 "nbformat": 4,
 "nbformat_minor": 5
}
